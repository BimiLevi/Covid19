{
 "cells": [
  {
   "cell_type": "markdown",
   "source": [
    "# <center> *SQL Queries - Covid 19* <center/>"
   ],
   "metadata": {
    "collapsed": false,
    "pycharm": {
     "name": "#%% md\n"
    }
   }
  },
  {
   "cell_type": "code",
   "execution_count": 1,
   "metadata": {
    "collapsed": true
   },
   "outputs": [],
   "source": [
    "from database.db_config import current_db as db"
   ]
  },
  {
   "cell_type": "code",
   "execution_count": 2,
   "outputs": [
    {
     "name": "stdout",
     "output_type": "stream",
     "text": [
      "DDL executed successfully.\n",
      "DDL executed successfully.\n"
     ]
    }
   ],
   "source": [
    "#  Alter the headers types, before querying.\n",
    "db.execute_ddl('ALTER TABLE \"All continents updated\" ALTER COLUMN \"TotalCases\" TYPE INT USING \"TotalCases\"::integer,ALTER COLUMN \"NewCases\" TYPE INT, ALTER COLUMN \"TotalDeaths\" TYPE INT USING \"TotalDeaths\"::integer,ALTER COLUMN \"NewDeaths\" TYPE INT, ALTER COLUMN \"TotalRecovered\" TYPE INT USING \"TotalRecovered\"::integer,ALTER COLUMN \"NewRecovered\" TYPE INT, ALTER COLUMN \"ActiveCases\" TYPE INT USING \"ActiveCases\"::integer,ALTER COLUMN \"SeriousCritical\" TYPE INT USING \"SeriousCritical\"::integer, ALTER COLUMN \"Date\" SET DATA TYPE date USING to_date(cast(\"Date\" as TEXT), \\'yyyy-mm-dd\\')')\n",
    "db.execute_ddl('ALTER TABLE \"All countries updated\" ALTER COLUMN \"TotalCases\" TYPE INT USING \"TotalCases\"::integer,ALTER COLUMN \"NewCases\" TYPE INT, ALTER COLUMN \"TotalDeaths\" TYPE INT USING \"TotalDeaths\"::integer,ALTER COLUMN \"NewDeaths\" TYPE INT, ALTER COLUMN \"TotalRecovered\" TYPE INT USING \"TotalRecovered\"::integer,ALTER COLUMN \"NewRecovered\" TYPE INT, ALTER COLUMN \"ActiveCases\" TYPE INT USING \"ActiveCases\"::integer,ALTER COLUMN \"SeriousCritical\" TYPE INT USING \"SeriousCritical\"::integer,ALTER COLUMN \"Date\" SET DATA TYPE date USING to_date(cast(\"Date\" as TEXT), \\'yyyy-mm-dd\\')')\n"
   ],
   "metadata": {
    "collapsed": false,
    "pycharm": {
     "name": "#%%\n"
    }
   }
  },
  {
   "cell_type": "code",
   "execution_count": 3,
   "outputs": [
    {
     "name": "stdout",
     "output_type": "stream",
     "text": [
      "+------------+------------+\n",
      "|  Country   | TotalCases |\n",
      "+------------+------------+\n",
      "|    USA     |  28453526  |\n",
      "|  Vanuatu   |     1      |\n",
      "| Micronesia |     1      |\n",
      "+------------+------------+\n"
     ]
    }
   ],
   "source": [
    "countries_minMax = db.sql_query('SELECT \"Country\", \"TotalCases\" FROM \"All countries updated\"'\n",
    "                        'WHERE \"TotalCases\" IN  ((SELECT MIN(\"TotalCases\")FROM \"All countries updated\" LIMIT 1),'\n",
    "\t\t\t\t\t\t                       '((SELECT MAX(\"TotalCases\") FROM \"All countries updated\"LIMIT 1)))')\n",
    "print(countries_minMax)"
   ],
   "metadata": {
    "collapsed": false,
    "pycharm": {
     "name": "#%%\n"
    }
   }
  },
  {
   "cell_type": "code",
   "execution_count": 4,
   "outputs": [
    {
     "name": "stdout",
     "output_type": "stream",
     "text": [
      "+---------------+------------+\n",
      "|   Continent   | TotalCases |\n",
      "+---------------+------------+\n",
      "| North America |  32598096  |\n",
      "|    Oceania    |   50671    |\n",
      "+---------------+------------+\n"
     ]
    }
   ],
   "source": [
    "# TotalCases Min and Max by a continent.\n",
    "continents_minMax = db.sql_query('SELECT \"Continent\", \"TotalCases\" FROM \"All continents updated\"'\n",
    "                        'WHERE \"TotalCases\" IN  ((SELECT MIN(\"TotalCases\")FROM \"All continents updated\" WHERE \"Continent\" <>  \\'World\\' LIMIT 1),'\n",
    "\t\t\t\t\t\t                       '((SELECT MAX(\"TotalCases\") FROM \"All continents updated\" WHERE \"Continent\" <>  \\'World\\'LIMIT 1)))')\n",
    "print(continents_minMax)"
   ],
   "metadata": {
    "collapsed": false,
    "pycharm": {
     "name": "#%%\n"
    }
   }
  },
  {
   "cell_type": "code",
   "execution_count": 5,
   "outputs": [
    {
     "name": "stdout",
     "output_type": "stream",
     "text": [
      "+------------------+---------------+------------+-----------------+-------------+-----------------+\n",
      "|     Country      |   Continent   | TotalCases | TotalCases_Rank | ActiveCases | SeriousCritical |\n",
      "+------------------+---------------+------------+-----------------+-------------+-----------------+\n",
      "|   South Africa   |     Africa    |  1496439   |        1        |    48132    |       546       |\n",
      "|     Morocco      |     Africa    |   479579   |        2        |     9596    |       263       |\n",
      "|     Tunisia      |     Africa    |   225116   |        3        |    32044    |       288       |\n",
      "|      India       |      Asia     |  10949546  |        1        |    138802   |       8944      |\n",
      "|      Turkey      |      Asia     |  2609359   |        2        |    84788    |       1193      |\n",
      "|       Iran       |      Asia     |  1542076   |        3        |    165280   |       3684      |\n",
      "|      Russia      |     Europe    |  4112151   |        1        |    388123   |       2300      |\n",
      "|        UK        |     Europe    |  4071185   |        2        |   1669549   |       2708      |\n",
      "|      France      |     Europe    |  3514147   |        3        |   3185288   |       3350      |\n",
      "|       USA        | North America |  28453526  |        1        |   9354485   |      18227      |\n",
      "|      Mexico      | North America |  2004575   |        2        |    264597   |       4798      |\n",
      "|      Canada      | North America |   834182   |        3        |    32986    |       594       |\n",
      "|    Australia     |    Oceania    |   28911    |        1        |     1869    |       None      |\n",
      "| French Polynesia |    Oceania    |   18321    |        2        |    13343    |        4        |\n",
      "|   New Zealand    |    Oceania    |    2340    |        3        |      49     |       None      |\n",
      "|      Brazil      | South America |  9979276   |        1        |    786648   |       8318      |\n",
      "|     Colombia     | South America |  2207701   |        2        |    49939    |       3482      |\n",
      "|    Argentina     | South America |  2039124   |        3        |    145630   |       3573      |\n",
      "+------------------+---------------+------------+-----------------+-------------+-----------------+\n"
     ]
    }
   ],
   "source": [
    "# Top 3 countries with the highest number of cases by Continents.\n",
    "top3_totalCases = db.sql_query('SELECT * '\n",
    "                                'FROM (SELECT \"Country\",\"Continent\",\"TotalCases\",RANK() OVER(PARTITION BY \"Continent\" ORDER BY \"TotalCases\" DESC) AS \"TotalCases_Rank\",\"ActiveCases\",\"SeriousCritical\"'\n",
    "                                'FROM (SELECT \"Country_id\",\"Continent_id\"'\n",
    "                                        'FROM \"All Countries\") AS t1 JOIN  (SELECT * '\n",
    "                                                                            'FROM \"All Continents\") AS t2 USING(\"Continent_id\")'\n",
    "                                        'JOIN  (SELECT \"Country\",\"Country_id\",\"TotalCases\",\"ActiveCases\",\"SeriousCritical\"'\n",
    "                                                'FROM \"All countries updated\" ) AS t3 USING(\"Country_id\")) AS \"t1\"'\n",
    "                                'WHERE \"TotalCases_Rank\" <=3 ')\n",
    "\n",
    "print(top3_totalCases)"
   ],
   "metadata": {
    "collapsed": false,
    "pycharm": {
     "name": "#%%\n"
    }
   }
  },
  {
   "cell_type": "code",
   "execution_count": 6,
   "outputs": [
    {
     "name": "stdout",
     "output_type": "stream",
     "text": [
      "+------------------+\n",
      "|     Country      |\n",
      "+------------------+\n",
      "|    Australia     |\n",
      "|   New Zealand    |\n",
      "| French Polynesia |\n",
      "| Papua New Guinea |\n",
      "|       Fiji       |\n",
      "|  New Caledonia   |\n",
      "+------------------+\n"
     ]
    }
   ],
   "source": [
    "# Countries that are located in Oceania continent.\n",
    "oceania_countries = db.sql_query('SELECT \"Country\" '\n",
    "                                 'FROM \"All Countries\" '\n",
    "                                 'WHERE \"Continent_id\" IN (SELECT \"Continent_id\" '\n",
    "                                                            'FROM \"All Continents\" '\n",
    "                                 '                           WHERE \"Continent\" = \\'Oceania\\')')\n",
    "print(oceania_countries)"
   ],
   "metadata": {
    "collapsed": false,
    "pycharm": {
     "name": "#%%\n"
    }
   }
  },
  {
   "cell_type": "code",
   "execution_count": 7,
   "outputs": [
    {
     "name": "stdout",
     "output_type": "stream",
     "text": [
      "+---------------+-----------------+\n",
      "|   Continent   | Countires_count |\n",
      "+---------------+-----------------+\n",
      "|     Africa    |        57       |\n",
      "|      Asia     |        49       |\n",
      "|     Europe    |        48       |\n",
      "| North America |        39       |\n",
      "| South America |        14       |\n",
      "|    Oceania    |        6        |\n",
      "+---------------+-----------------+\n"
     ]
    }
   ],
   "source": [
    "# The count of countries in each continent.\n",
    "countries_perContinent = db.sql_query('SELECT \"Continent\",\"Countires_count\" FROM (SELECT * FROM \"All Continents\") AS t1 '\n",
    "                                      'JOIN (SELECT \"Continent_id\", COUNT(\"Country\") AS \"Countires_count\" '\n",
    "                                      'FROM \"All Countries\" G'\n",
    "                                      'ROUP BY \"Continent_id\") AS t2 '\n",
    "                                      'USING(\"Continent_id\") '\n",
    "                                      'ORDER BY \"Countires_count\" DESC')\n",
    "print(countries_perContinent)"
   ],
   "metadata": {
    "collapsed": false,
    "pycharm": {
     "name": "#%%\n"
    }
   }
  },
  {
   "cell_type": "code",
   "execution_count": 8,
   "outputs": [
    {
     "name": "stdout",
     "output_type": "stream",
     "text": [
      "+--------------+---------------+------------+\n",
      "|   Country    |   Continent   | TotalCases |\n",
      "+--------------+---------------+------------+\n",
      "| South Africa |     Africa    |  1496439   |\n",
      "|    India     |      Asia     |  10949546  |\n",
      "|    Russia    |     Europe    |  4112151   |\n",
      "|     USA      | North America |  28453526  |\n",
      "|  Australia   |    Oceania    |   28911    |\n",
      "|    Brazil    | South America |  9979276   |\n",
      "+--------------+---------------+------------+\n"
     ]
    }
   ],
   "source": [
    "# The country with the highest \"TotalCases\" in each continent.\n",
    "country_high_perContinent = db.sql_query('SELECT \"Country\",\"Continent\",\"TotalCases\" '\n",
    "                                         'FROM (SELECT \"Country\",\"Continent\",\"TotalCases\" ,RANK() OVER(PARTITION BY \"Continent\" ORDER BY \"TotalCases\" DESC) AS \"rank\" '\n",
    "                                                'FROM (SELECT \"Country\",\"Country_id\",\"TotalCases\" '\n",
    "                                                       'FROM \"All countries updated\" ) AS t1  '\n",
    "                                                       'JOIN (SELECT \"Country_id\", \"Continent_id\" FROM \"All Countries\") AS t2 '\n",
    "                                                        'USING(\"Country_id\") '\n",
    "                                                        'JOIN (SELECT \"Continent_id\",\"Continent\" FROM \"All Continents\") AS t3 '\n",
    "                                                        'USING(\"Continent_id\")) AS t4 '\n",
    "                                         'WHERE \"rank\" =1;')\n",
    "print(country_high_perContinent)"
   ],
   "metadata": {
    "collapsed": false,
    "pycharm": {
     "name": "#%%\n"
    }
   }
  },
  {
   "cell_type": "code",
   "execution_count": 9,
   "outputs": [
    {
     "name": "stdout",
     "output_type": "stream",
     "text": [
      "+---------+-------------+\n",
      "| Country | ActiveCases |\n",
      "+---------+-------------+\n",
      "|   USA   |   9354485   |\n",
      "|  France |   3185288   |\n",
      "|    UK   |   1669549   |\n",
      "|  Brazil |    786648   |\n",
      "| Belgium |    668525   |\n",
      "+---------+-------------+\n"
     ]
    }
   ],
   "source": [
    "# Top 5 countries with active cases.\n",
    "top5_countries_active = db.sql_query('SELECT \"Country\",\"ActiveCases\" '\n",
    "                                     'FROM \"All countries updated\" '\n",
    "                                     'WHERE \"ActiveCases\" IS NOT NULL '\n",
    "                                     'ORDER BY \"ActiveCases\" DESC LIMIT 5;')\n",
    "print(top5_countries_active)"
   ],
   "metadata": {
    "collapsed": false,
    "pycharm": {
     "name": "#%%\n"
    }
   }
  },
  {
   "cell_type": "code",
   "execution_count": 10,
   "outputs": [
    {
     "name": "stdout",
     "output_type": "stream",
     "text": [
      "+-------------------+--------------------+-----------------------+\n",
      "| max_NewCases_date | max_NewDeaths_date | max_NewRecovered_date |\n",
      "+-------------------+--------------------+-----------------------+\n",
      "|     2021-01-28    |     2021-01-28     |       2021-02-06      |\n",
      "+-------------------+--------------------+-----------------------+\n"
     ]
    }
   ],
   "source": [
    "# The date that israel had the highest value of new parm.\n",
    "israel_max_dates = db.sql_query('SELECT \"max_NewCases_date\",\"max_NewDeaths_date\",\"max_NewRecovered_date\"'\n",
    "                                    'FROM (SELECT \"Date\" AS \"max_NewDeaths_date\" ,\"Country_id\" FROM \"Israel\" WHERE \"NewDeaths\" = (SELECT MAX(\"NewDeaths\") FROM \"Israel\")) AS \"i1\"'\n",
    "                                    'FULL OUTER JOIN'\n",
    "                                    '(SELECT \"Date\" AS \"max_NewRecovered_date\" ,\"Country_id\" FROM \"Israel\" WHERE \"NewRecovered\" = (Select MAX(\"NewRecovered\") FROM \"Israel\")) AS \"i2\"'\n",
    "                                        'USING(\"Country_id\") '\n",
    "                                    'FULL OUTER JOIN '\n",
    "                                    '(SELECT \"Date\" AS \"max_NewCases_date\" ,\"Country_id\" FROM \"Israel\" WHERE \"NewCases\" = (Select MAX(\"NewCases\") FROM \"Israel\")) AS \"i3\"'\n",
    "                                        'USING(\"Country_id\")')\n",
    "print(israel_max_dates)"
   ],
   "metadata": {
    "collapsed": false,
    "pycharm": {
     "name": "#%%\n"
    }
   }
  },
  {
   "cell_type": "code",
   "execution_count": 11,
   "outputs": [
    {
     "name": "stdout",
     "output_type": "stream",
     "text": [
      "+-------------------+--------------------+-----------------------+\n",
      "| min_NewCases_date | min_NewDeaths_date | min_NewRecovered_date |\n",
      "+-------------------+--------------------+-----------------------+\n",
      "|     2020-08-29    |     2020-08-29     |       2020-08-29      |\n",
      "+-------------------+--------------------+-----------------------+\n"
     ]
    }
   ],
   "source": [
    "# The date that israel had the lowest value of new parm.\n",
    "israel_min_dates = db.sql_query('SELECT MIN(\"min_NewCases_date\") AS \"min_NewCases_date\" ,MIN(\"min_NewDeaths_date\") AS \"min_NewDeaths_date\",MIN(\"min_NewRecovered_date\") AS \"min_NewRecovered_date\"'\n",
    "                                    'FROM (SELECT \"Date\" AS \"min_NewDeaths_date\" ,\"Country_id\" FROM \"Israel\" WHERE \"NewDeaths\" = (SELECT MIN(\"NewDeaths\") FROM \"Israel\")) AS \"i1\"'\n",
    "                                    'FULL OUTER JOIN'\n",
    "                                    '(SELECT \"Date\" AS \"min_NewRecovered_date\" ,\"Country_id\" FROM \"Israel\" WHERE \"NewRecovered\" = (Select MIN(\"NewRecovered\") FROM \"Israel\")) AS \"i2\"'\n",
    "                                        'USING(\"Country_id\") '\n",
    "                                    'FULL OUTER JOIN '\n",
    "                                    '(SELECT \"Date\" AS \"min_NewCases_date\" ,\"Country_id\" FROM \"Israel\" WHERE \"NewCases\" = (Select MIN(\"NewCases\") FROM \"Israel\")) AS \"i3\"'\n",
    "                                        'USING(\"Country_id\")')\n",
    "print(israel_min_dates)"
   ],
   "metadata": {
    "collapsed": false,
    "pycharm": {
     "name": "#%%\n"
    }
   }
  },
  {
   "cell_type": "code",
   "execution_count": 12,
   "outputs": [
    {
     "name": "stdout",
     "output_type": "stream",
     "text": [
      "+---------------+-------------+------+\n",
      "|   Continent   | ActiveCases | rank |\n",
      "+---------------+-------------+------+\n",
      "|     Europe    |   10166776  |  1   |\n",
      "| North America |   9883918   |  2   |\n",
      "| South America |   1163911   |  3   |\n",
      "|      Asia     |   1063212   |  4   |\n",
      "|     Africa    |    363100   |  5   |\n",
      "|    Oceania    |    15371    |  6   |\n",
      "+---------------+-------------+------+\n"
     ]
    }
   ],
   "source": [
    "# Ranking each continent by its active cases.\n",
    "continent_active_rank = db.sql_query('SELECT \"Continent\",\"ActiveCases\", RANK() OVER(ORDER BY \"ActiveCases\" DESC) '\n",
    "                                     'FROM \"All continents updated\" '\n",
    "                                     'WHERE \"Continent\" <> \\'World\\'')\n",
    "print(continent_active_rank)"
   ],
   "metadata": {
    "collapsed": false,
    "pycharm": {
     "name": "#%%\n"
    }
   }
  },
  {
   "cell_type": "code",
   "execution_count": 13,
   "outputs": [
    {
     "name": "stdout",
     "output_type": "stream",
     "text": [
      "+---------------+-------------+\n",
      "| Earliest Date | Latest Date |\n",
      "+---------------+-------------+\n",
      "|   2020-08-02  |  2021-02-17 |\n",
      "+---------------+-------------+\n"
     ]
    }
   ],
   "source": [
    "israel_minMax_dates = db.sql_query('SELECT MIN(\"Date\") as \"Earliest Date\",MAX(\"Date\") as \"Latest Date\" '\n",
    "                                   'FROM \"Israel\"')\n",
    "print(israel_minMax_dates)"
   ],
   "metadata": {
    "collapsed": false,
    "pycharm": {
     "name": "#%%\n"
    }
   }
  }
 ],
 "metadata": {
  "kernelspec": {
   "display_name": "Python 3",
   "language": "python",
   "name": "python3"
  },
  "language_info": {
   "codemirror_mode": {
    "name": "ipython",
    "version": 2
   },
   "file_extension": ".py",
   "mimetype": "text/x-python",
   "name": "python",
   "nbconvert_exporter": "python",
   "pygments_lexer": "ipython2",
   "version": "2.7.6"
  },
  "pycharm": {
   "stem_cell": {
    "cell_type": "raw",
    "source": [
     "# -*- coding: utf-8 -*-\n"
    ],
    "metadata": {
     "collapsed": false
    }
   }
  }
 },
 "nbformat": 4,
 "nbformat_minor": 0
}