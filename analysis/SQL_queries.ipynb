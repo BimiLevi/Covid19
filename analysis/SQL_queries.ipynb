{
 "cells": [
  {
   "cell_type": "code",
   "execution_count": 1,
   "metadata": {
    "collapsed": true
   },
   "outputs": [],
   "source": [
    "from database.db_config import current_db as db"
   ]
  },
  {
   "cell_type": "code",
   "execution_count": 2,
   "outputs": [
    {
     "name": "stdout",
     "output_type": "stream",
     "text": [
      "DDL executed successfully.\n",
      "DDL executed successfully.\n"
     ]
    }
   ],
   "source": [
    "#  Alter the headers types, before querying.\n",
    "db.execute_ddl('ALTER TABLE \"All continents updated\" ALTER COLUMN \"TotalCases\" TYPE INT USING \"TotalCases\"::integer,ALTER COLUMN \"NewCases\" TYPE INT, ALTER COLUMN \"TotalDeaths\" TYPE INT USING \"TotalDeaths\"::integer,ALTER COLUMN \"NewDeaths\" TYPE INT, ALTER COLUMN \"TotalRecovered\" TYPE INT USING \"TotalRecovered\"::integer,ALTER COLUMN \"NewRecovered\" TYPE INT, ALTER COLUMN \"ActiveCases\" TYPE INT USING \"ActiveCases\"::integer,ALTER COLUMN \"SeriousCritical\" TYPE INT USING \"SeriousCritical\"::integer, ALTER COLUMN \"Date\" SET DATA TYPE date USING to_date(cast(\"Date\" as TEXT), \\'yyyy-mm-dd\\')')\n",
    "db.execute_ddl('ALTER TABLE \"All countries updated\" ALTER COLUMN \"TotalCases\" TYPE INT USING \"TotalCases\"::integer,ALTER COLUMN \"NewCases\" TYPE INT, ALTER COLUMN \"TotalDeaths\" TYPE INT USING \"TotalDeaths\"::integer,ALTER COLUMN \"NewDeaths\" TYPE INT, ALTER COLUMN \"TotalRecovered\" TYPE INT USING \"TotalRecovered\"::integer,ALTER COLUMN \"NewRecovered\" TYPE INT, ALTER COLUMN \"ActiveCases\" TYPE INT USING \"ActiveCases\"::integer,ALTER COLUMN \"SeriousCritical\" TYPE INT USING \"SeriousCritical\"::integer,ALTER COLUMN \"Date\" SET DATA TYPE date USING to_date(cast(\"Date\" as TEXT), \\'yyyy-mm-dd\\')')\n"
   ],
   "metadata": {
    "collapsed": false,
    "pycharm": {
     "name": "#%%\n"
    }
   }
  },
  {
   "cell_type": "code",
   "execution_count": 3,
   "outputs": [
    {
     "name": "stdout",
     "output_type": "stream",
     "text": [
      "+---------+------------+\n",
      "| Country | TotalCases |\n",
      "+---------+------------+\n",
      "|   USA   |  19670613  |\n",
      "| Vanuatu |     1      |\n",
      "+---------+------------+\n"
     ]
    }
   ],
   "source": [
    "countries_minMax = db.sql_query('SELECT \"Country\", \"TotalCases\" FROM \"All countries updated\"'\n",
    "                        'WHERE \"TotalCases\" IN  ((SELECT MIN(\"TotalCases\")FROM \"All countries updated\" LIMIT 1),'\n",
    "\t\t\t\t\t\t                       '((SELECT MAX(\"TotalCases\") FROM \"All countries updated\"LIMIT 1)))')\n",
    "print(countries_minMax)"
   ],
   "metadata": {
    "collapsed": false,
    "pycharm": {
     "name": "#%%\n"
    }
   }
  },
  {
   "cell_type": "code",
   "execution_count": 4,
   "outputs": [
    {
     "name": "stdout",
     "output_type": "stream",
     "text": [
      "+-----------+------------+\n",
      "| Continent | TotalCases |\n",
      "+-----------+------------+\n",
      "|   Europe  |  22864797  |\n",
      "|  Oceania  |   47923    |\n",
      "+-----------+------------+\n"
     ]
    }
   ],
   "source": [
    "# TotalCases Min and Max by a continent.\n",
    "continents_minMax = db.sql_query('SELECT \"Continent\", \"TotalCases\" FROM \"All continents updated\"'\n",
    "                        'WHERE \"TotalCases\" IN  ((SELECT MIN(\"TotalCases\")FROM \"All continents updated\" WHERE \"Continent\" <>  \\'World\\' LIMIT 1),'\n",
    "\t\t\t\t\t\t                       '((SELECT MAX(\"TotalCases\") FROM \"All continents updated\" WHERE \"Continent\" <>  \\'World\\'LIMIT 1)))')\n",
    "print(continents_minMax)"
   ],
   "metadata": {
    "collapsed": false,
    "pycharm": {
     "name": "#%%\n"
    }
   }
  },
  {
   "cell_type": "code",
   "execution_count": 5,
   "outputs": [
    {
     "name": "stdout",
     "output_type": "stream",
     "text": [
      "+------------------+---------------+------------+-----------------+-------------+-----------------+\n",
      "|     Country      |   Continent   | TotalCases | TotalCases_Rank | ActiveCases | SeriousCritical |\n",
      "+------------------+---------------+------------+-----------------+-------------+-----------------+\n",
      "|   South Africa   |     Africa    |  1011871   |        1        |    134826   |       546       |\n",
      "|     Morocco      |     Africa    |   433029   |        2        |    26182    |       769       |\n",
      "|     Tunisia      |     Africa    |   133204   |        3        |    27441    |       332       |\n",
      "|      India       |      Asia     |  10224797  |        1        |    269840   |       8944      |\n",
      "|      Turkey      |      Asia     |  2162775   |        2        |    105207   |       4251      |\n",
      "|       Iran       |      Asia     |  1206373   |        3        |    190808   |       5174      |\n",
      "|      Russia      |     Europe    |  3078035   |        1        |    551461   |       2300      |\n",
      "|      France      |     Europe    |  2562646   |        2        |   2308815   |       2703      |\n",
      "|        UK        |     Europe    |  2329730   |        3        |     None    |       1529      |\n",
      "|       USA        | North America |  19670613  |        1        |   7786087   |      28669      |\n",
      "|      Mexico      | North America |  1383434   |        2        |    222242   |       3913      |\n",
      "|      Canada      | North America |   554416   |        3        |    80149    |       715       |\n",
      "|    Australia     |    Oceania    |   28337    |        1        |     1695    |       None      |\n",
      "| French Polynesia |    Oceania    |   16550    |        2        |    11600    |        21       |\n",
      "|   New Zealand    |    Oceania    |    2144    |        3        |      50     |       None      |\n",
      "|      Brazil      | South America |  7486094   |        1        |    779517   |       8318      |\n",
      "|     Colombia     | South America |  1594497   |        2        |    96351    |       2578      |\n",
      "|    Argentina     | South America |  1583297   |        3        |    132721   |       3313      |\n",
      "+------------------+---------------+------------+-----------------+-------------+-----------------+\n"
     ]
    }
   ],
   "source": [
    "# Top 3 countries with the highest number of cases by Continents.\n",
    "top3_totalCases = db.sql_query('SELECT * '\n",
    "                                'FROM (SELECT \"Country\",\"Continent\",\"TotalCases\",RANK() OVER(PARTITION BY \"Continent\" ORDER BY \"TotalCases\" DESC) AS \"TotalCases_Rank\",\"ActiveCases\",\"SeriousCritical\"'\n",
    "                                'FROM (SELECT \"Country_id\",\"Continent_id\"'\n",
    "                                        'FROM \"All Countries\") AS t1 JOIN  (SELECT * '\n",
    "                                                                            'FROM \"All Continents\") AS t2 USING(\"Continent_id\")'\n",
    "                                        'JOIN  (SELECT \"Country\",\"Country_id\",\"TotalCases\",\"ActiveCases\",\"SeriousCritical\"'\n",
    "                                                'FROM \"All countries updated\" ) AS t3 USING(\"Country_id\")) AS \"t1\"'\n",
    "                                'WHERE \"TotalCases_Rank\" <=3 ')\n",
    "\n",
    "print(top3_totalCases)"
   ],
   "metadata": {
    "collapsed": false,
    "pycharm": {
     "name": "#%%\n"
    }
   }
  },
  {
   "cell_type": "code",
   "execution_count": 6,
   "outputs": [
    {
     "name": "stdout",
     "output_type": "stream",
     "text": [
      "+------------------+\n",
      "|     Country      |\n",
      "+------------------+\n",
      "|    Australia     |\n",
      "|   New Zealand    |\n",
      "| French Polynesia |\n",
      "| Papua New Guinea |\n",
      "|       Fiji       |\n",
      "|  New Caledonia   |\n",
      "+------------------+\n"
     ]
    }
   ],
   "source": [
    "# Countries that are located in Oceania continent.\n",
    "oceania_countries = db.sql_query('SELECT \"Country\" '\n",
    "                                 'FROM \"All Countries\" '\n",
    "                                 'WHERE \"Continent_id\" IN (SELECT \"Continent_id\" '\n",
    "                                                            'FROM \"All Continents\" '\n",
    "                                 '                           WHERE \"Continent\" = \\'Oceania\\')')\n",
    "print(oceania_countries)"
   ],
   "metadata": {
    "collapsed": false,
    "pycharm": {
     "name": "#%%\n"
    }
   }
  },
  {
   "cell_type": "code",
   "execution_count": 7,
   "outputs": [
    {
     "name": "stdout",
     "output_type": "stream",
     "text": [
      "+---------------+-----------------+\n",
      "|   Continent   | Countires_count |\n",
      "+---------------+-----------------+\n",
      "|     Africa    |        57       |\n",
      "|      Asia     |        49       |\n",
      "|     Europe    |        48       |\n",
      "| North America |        39       |\n",
      "| South America |        14       |\n",
      "|    Oceania    |        6        |\n",
      "+---------------+-----------------+\n"
     ]
    }
   ],
   "source": [
    "# The count of countries in each continent.\n",
    "countries_perContinent = db.sql_query('SELECT \"Continent\",\"Countires_count\" FROM (SELECT * FROM \"All Continents\") AS t1 '\n",
    "                                      'JOIN (SELECT \"Continent_id\", COUNT(\"Country\") AS \"Countires_count\" '\n",
    "                                      'FROM \"All Countries\" G'\n",
    "                                      'ROUP BY \"Continent_id\") AS t2 '\n",
    "                                      'USING(\"Continent_id\") '\n",
    "                                      'ORDER BY \"Countires_count\" DESC')\n",
    "print(countries_perContinent)"
   ],
   "metadata": {
    "collapsed": false,
    "pycharm": {
     "name": "#%%\n"
    }
   }
  },
  {
   "cell_type": "code",
   "execution_count": 8,
   "outputs": [
    {
     "name": "stdout",
     "output_type": "stream",
     "text": [
      "+--------------+---------------+------------+\n",
      "|   Country    |   Continent   | TotalCases |\n",
      "+--------------+---------------+------------+\n",
      "| South Africa |     Africa    |  1011871   |\n",
      "|    India     |      Asia     |  10224797  |\n",
      "|    Russia    |     Europe    |  3078035   |\n",
      "|     USA      | North America |  19670613  |\n",
      "|  Australia   |    Oceania    |   28337    |\n",
      "|    Brazil    | South America |  7486094   |\n",
      "+--------------+---------------+------------+\n"
     ]
    }
   ],
   "source": [
    "# The country with the highest \"TotalCases\" in each continent.\n",
    "country_high_perContinent = db.sql_query('SELECT \"Country\",\"Continent\",\"TotalCases\" '\n",
    "                                         'FROM (SELECT \"Country\",\"Continent\",\"TotalCases\" ,RANK() OVER(PARTITION BY \"Continent\" ORDER BY \"TotalCases\" DESC) AS \"rank\" '\n",
    "                                                'FROM (SELECT \"Country\",\"Country_id\",\"TotalCases\" '\n",
    "                                                       'FROM \"All countries updated\" ) AS t1  '\n",
    "                                                       'JOIN (SELECT \"Country_id\", \"Continent_id\" FROM \"All Countries\") AS t2 '\n",
    "                                                        'USING(\"Country_id\") '\n",
    "                                                        'JOIN (SELECT \"Continent_id\",\"Continent\" FROM \"All Continents\") AS t3 '\n",
    "                                                        'USING(\"Continent_id\")) AS t4 '\n",
    "                                         'WHERE \"rank\" =1;')\n",
    "print(country_high_perContinent)"
   ],
   "metadata": {
    "collapsed": false,
    "pycharm": {
     "name": "#%%\n"
    }
   }
  },
  {
   "cell_type": "code",
   "execution_count": 9,
   "outputs": [
    {
     "name": "stdout",
     "output_type": "stream",
     "text": [
      "+---------+-------------+\n",
      "| Country | ActiveCases |\n",
      "+---------+-------------+\n",
      "|   USA   |   7786087   |\n",
      "|  France |   2308815   |\n",
      "|  Brazil |    779517   |\n",
      "| Belgium |    575804   |\n",
      "|  Italy  |    575221   |\n",
      "+---------+-------------+\n"
     ]
    }
   ],
   "source": [
    "# Top 5 countries with active cases.\n",
    "top5_countries_active = db.sql_query('SELECT \"Country\",\"ActiveCases\" '\n",
    "                                     'FROM \"All countries updated\" '\n",
    "                                     'WHERE \"ActiveCases\" IS NOT NULL '\n",
    "                                     'ORDER BY \"ActiveCases\" DESC LIMIT 5;')\n",
    "print(top5_countries_active)"
   ],
   "metadata": {
    "collapsed": false,
    "pycharm": {
     "name": "#%%\n"
    }
   }
  },
  {
   "cell_type": "code",
   "execution_count": 10,
   "outputs": [
    {
     "name": "stdout",
     "output_type": "stream",
     "text": [
      "+-------------------+\n",
      "| max_NewCases_date |\n",
      "+-------------------+\n",
      "|     2020-09-27    |\n",
      "+-------------------+\n"
     ]
    }
   ],
   "source": [
    "# The date that israel had the highest value of new cases.\n",
    "israel_newCases_date = db.sql_query('SELECT \"Date\" AS \"max_NewCases_date\" '\n",
    "                                    'FROM \"Israel\" '\n",
    "                                    'WHERE \"NewCases\" = (Select MAX(\"NewCases\") '\n",
    "                                    '                    FROM \"Israel\")')\n",
    "print(israel_newCases_date)"
   ],
   "metadata": {
    "collapsed": false,
    "pycharm": {
     "name": "#%%\n"
    }
   }
  },
  {
   "cell_type": "code",
   "execution_count": 11,
   "outputs": [
    {
     "name": "stdout",
     "output_type": "stream",
     "text": [
      "+---------------+-------------+------+\n",
      "|   Continent   | ActiveCases | rank |\n",
      "+---------------+-------------+------+\n",
      "|     Europe    |   11163359  |  1   |\n",
      "| North America |   8291525   |  2   |\n",
      "|      Asia     |   1220972   |  3   |\n",
      "| South America |   1111665   |  4   |\n",
      "|     Africa    |    379996   |  5   |\n",
      "|    Oceania    |    13471    |  6   |\n",
      "+---------------+-------------+------+\n"
     ]
    }
   ],
   "source": [
    "# Ranking each continent by its active cases.\n",
    "continent_active_rank = db.sql_query('SELECT \"Continent\",\"ActiveCases\", RANK() OVER(ORDER BY \"ActiveCases\" DESC) '\n",
    "                                     'FROM \"All continents updated\" '\n",
    "                                     'WHERE \"Continent\" <> \\'World\\'')\n",
    "print(continent_active_rank)"
   ],
   "metadata": {
    "collapsed": false,
    "pycharm": {
     "name": "#%%\n"
    }
   }
  },
  {
   "cell_type": "code",
   "execution_count": 12,
   "outputs": [
    {
     "name": "stdout",
     "output_type": "stream",
     "text": [
      "+---------------+-------------+\n",
      "| Earliest Date | Latest Date |\n",
      "+---------------+-------------+\n",
      "|   2020-08-02  |  2020-12-28 |\n",
      "+---------------+-------------+\n"
     ]
    }
   ],
   "source": [
    "israel_minMax_dates = db.sql_query('SELECT MIN(\"Date\") as \"Earliest Date\",MAX(\"Date\") as \"Latest Date\" '\n",
    "                                   'FROM \"Israel\"')\n",
    "print(israel_minMax_dates)"
   ],
   "metadata": {
    "collapsed": false,
    "pycharm": {
     "name": "#%%\n"
    }
   }
  }
 ],
 "metadata": {
  "kernelspec": {
   "display_name": "Python 3",
   "language": "python",
   "name": "python3"
  },
  "language_info": {
   "codemirror_mode": {
    "name": "ipython",
    "version": 2
   },
   "file_extension": ".py",
   "mimetype": "text/x-python",
   "name": "python",
   "nbconvert_exporter": "python",
   "pygments_lexer": "ipython2",
   "version": "2.7.6"
  },
  "pycharm": {
   "stem_cell": {
    "cell_type": "raw",
    "source": [
     "# -*- coding: utf-8 -*-\n"
    ],
    "metadata": {
     "collapsed": false
    }
   }
  }
 },
 "nbformat": 4,
 "nbformat_minor": 0
}