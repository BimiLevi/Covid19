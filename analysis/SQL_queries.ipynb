{
 "cells": [
  {
   "cell_type": "code",
   "execution_count": 13,
   "metadata": {
    "collapsed": true
   },
   "outputs": [],
   "source": [
    "from database.db_config import current_db as db"
   ]
  },
  {
   "cell_type": "code",
   "execution_count": 14,
   "outputs": [
    {
     "name": "stdout",
     "output_type": "stream",
     "text": [
      "DDL executed successfully.\n",
      "DDL executed successfully.\n"
     ]
    }
   ],
   "source": [
    "# Alter the headers types, before querying.\n",
    "db.execute_ddl('ALTER TABLE \"All continents updated\" ALTER COLUMN \"TotalCases\" TYPE INT USING \"TotalCases\"::integer,ALTER COLUMN \"NewCases\" TYPE INT, ALTER COLUMN \"TotalDeaths\" TYPE INT USING \"TotalDeaths\"::integer,ALTER COLUMN \"NewDeaths\" TYPE INT, ALTER COLUMN \"TotalRecovered\" TYPE INT USING \"TotalRecovered\"::integer,ALTER COLUMN \"NewRecovered\" TYPE INT, ALTER COLUMN \"ActiveCases\" TYPE INT USING \"ActiveCases\"::integer,ALTER COLUMN \"SeriousCritical\" TYPE INT USING \"SeriousCritical\"::integer, ALTER COLUMN \"scrap_date\" SET DATA TYPE date USING to_date(cast(\"scrap_date\" as TEXT), \\'yyyy-mm-dd\\')')\n",
    "db.execute_ddl('ALTER TABLE \"All countries updated\" ALTER COLUMN \"TotalCases\" TYPE INT USING \"TotalCases\"::integer,ALTER COLUMN \"NewCases\" TYPE INT, ALTER COLUMN \"TotalDeaths\" TYPE INT USING \"TotalDeaths\"::integer,ALTER COLUMN \"NewDeaths\" TYPE INT, ALTER COLUMN \"TotalRecovered\" TYPE INT USING \"TotalRecovered\"::integer,ALTER COLUMN \"NewRecovered\" TYPE INT, ALTER COLUMN \"ActiveCases\" TYPE INT USING \"ActiveCases\"::integer,ALTER COLUMN \"SeriousCritical\" TYPE INT USING \"SeriousCritical\"::integer,ALTER COLUMN \"scrap_date\" SET DATA TYPE date USING to_date(cast(\"scrap_date\" as TEXT), \\'yyyy-mm-dd\\')')\n"
   ],
   "metadata": {
    "collapsed": false,
    "pycharm": {
     "name": "#%%\n"
    }
   }
  },
  {
   "cell_type": "code",
   "execution_count": 15,
   "outputs": [
    {
     "name": "stdout",
     "output_type": "stream",
     "text": [
      "+---------+------------+\n",
      "| Country | TotalCases |\n",
      "+---------+------------+\n",
      "|   USA   |  15113903  |\n",
      "| Vanuatu |     1      |\n",
      "+---------+------------+\n"
     ]
    }
   ],
   "source": [
    "countries_minMax = db.sql_query('SELECT \"Country\", \"TotalCases\" FROM \"All countries updated\" '\n",
    "                              'WHERE \"TotalCases\" IN ((SELECT MAX(\"TotalCases\") FROM \"All countries updated\"),'\n",
    "                              '(SELECT MIN(\"TotalCases\") FROM \"All countries updated\"))')\n",
    "print(countries_minMax)"
   ],
   "metadata": {
    "collapsed": false,
    "pycharm": {
     "name": "#%%\n"
    }
   }
  },
  {
   "cell_type": "code",
   "execution_count": 16,
   "outputs": [
    {
     "name": "stdout",
     "output_type": "stream",
     "text": [
      "+-----------+------------+\n",
      "| Continent | TotalCases |\n",
      "+-----------+------------+\n",
      "|   Europe  |  18439062  |\n",
      "|  Oceania  |   45927    |\n",
      "+-----------+------------+\n"
     ]
    }
   ],
   "source": [
    "# TotalCases Min and Max by a continent.\n",
    "continents_minMax = db.sql_query('SELECT \"Continent\", \"TotalCases\" FROM \"All continents updated\" '\n",
    "                              'WHERE \"TotalCases\" IN ((SELECT MAX(\"TotalCases\") FROM \"All continents updated\" WHERE \"Continent\" <>  \\'World\\'),'\n",
    "                              '(SELECT MIN(\"TotalCases\") FROM \"All continents updated\")) ')\n",
    "print(continents_minMax)"
   ],
   "metadata": {
    "collapsed": false,
    "pycharm": {
     "name": "#%%\n"
    }
   }
  },
  {
   "cell_type": "code",
   "execution_count": 17,
   "outputs": [
    {
     "name": "stdout",
     "output_type": "stream",
     "text": [
      "+-----------+---------------+------------+------------------------------+-------------+-----------------+\n",
      "|  Country  |   Continent   | TotalCases | Continent_rank_by_TotalCases | ActiveCases | SeriousCritical |\n",
      "+-----------+---------------+------------+------------------------------+-------------+-----------------+\n",
      "|   India   |      Asia     |  9676801   |              1               |    398040   |       8944      |\n",
      "|    Iran   |      Asia     |  1040547   |              2               |    259439   |       5809      |\n",
      "|   Russia  |     Europe    |  2460770   |              1               |    479891   |       2300      |\n",
      "|   France  |     Europe    |  2292497   |              2               |   2067756   |       3220      |\n",
      "|   Italy   |     Europe    |  1728878   |              3               |    755306   |       3454      |\n",
      "|     UK    |     Europe    |  1723242   |              4               |     None    |       1274      |\n",
      "|   Spain   |     Europe    |  1699145   |              5               |     None    |       2371      |\n",
      "|  Germany  |     Europe    |  1184781   |              6               |    319224   |       4108      |\n",
      "|   Poland  |     Europe    |  1063449   |              7               |    336640   |       1900      |\n",
      "|    USA    | North America |  15113903  |              1               |   5988387   |      26245      |\n",
      "|   Mexico  | North America |  1168395   |              2               |    199476   |       3363      |\n",
      "|   Brazil  | South America |  6582606   |              1               |    644522   |       8318      |\n",
      "| Argentina | South America |  1459832   |              2               |    131415   |       3757      |\n",
      "|  Colombia | South America |  1362249   |              3               |    74914    |       2376      |\n",
      "|    Peru   | South America |   972688   |              4               |    30761    |       976       |\n",
      "+-----------+---------------+------------+------------------------------+-------------+-----------------+\n"
     ]
    }
   ],
   "source": [
    "# Top 15 countries with the highest number of cases.\n",
    "top15_totalCases = db.sql_query('SELECT \"Country\",\"Continent\",\"TotalCases\",RANK() OVER(PARTITION BY \"Continent\" ORDER BY \"TotalCases\" DESC) AS \"Continent_rank_by_TotalCases\",\"ActiveCases\",\"SeriousCritical\" FROM (SELECT \"Country_id\",\"Continent_id\" FROM \"All Countries\") AS t1 JOIN  (SELECT * FROM \"All Continents\") AS t2 USING(\"Continent_id\") JOIN  (SELECT \"Country\",\"Country_id\",\"TotalCases\",\"ActiveCases\",\"SeriousCritical\"  FROM \"All countries updated\" LIMIT 15) AS t3 USING(\"Country_id\")')\n",
    "print(top15_totalCases)"
   ],
   "metadata": {
    "collapsed": false,
    "pycharm": {
     "name": "#%%\n"
    }
   }
  },
  {
   "cell_type": "code",
   "execution_count": 18,
   "outputs": [
    {
     "name": "stdout",
     "output_type": "stream",
     "text": [
      "+------------------+\n",
      "|     Country      |\n",
      "+------------------+\n",
      "|    Australia     |\n",
      "|   New Zealand    |\n",
      "| French Polynesia |\n",
      "| Papua New Guinea |\n",
      "|       Fiji       |\n",
      "|  New Caledonia   |\n",
      "+------------------+\n"
     ]
    }
   ],
   "source": [
    "# Countries that are located in Oceania continent.\n",
    "oceania_countries = db.sql_query('SELECT \"Country\" FROM \"All Countries\" WHERE \"Continent_id\" IN (SELECT '\n",
    "                                 '\"Continent_id\" FROM \"All Continents\" WHERE \"Continent\" = \\'Oceania\\')')\n",
    "print(oceania_countries)"
   ],
   "metadata": {
    "collapsed": false,
    "pycharm": {
     "name": "#%%\n"
    }
   }
  },
  {
   "cell_type": "code",
   "execution_count": 19,
   "outputs": [
    {
     "name": "stdout",
     "output_type": "stream",
     "text": [
      "+---------------+-----------------+\n",
      "|   Continent   | Countires_count |\n",
      "+---------------+-----------------+\n",
      "|     Africa    |        57       |\n",
      "|      Asia     |        49       |\n",
      "|     Europe    |        48       |\n",
      "| North America |        39       |\n",
      "| South America |        14       |\n",
      "|    Oceania    |        6        |\n",
      "+---------------+-----------------+\n"
     ]
    }
   ],
   "source": [
    "# The count of countries in each continent.\n",
    "countries_perContinent = db.sql_query('SELECT \"Continent\",\"Countires_count\" FROM (SELECT * FROM \"All Continents\") AS ''t1 JOIN (SELECT \"Continent_id\", COUNT(\"Country\") AS \"Countires_count\" FROM \"All Countries\" GROUP BY \"Continent_id\") AS t2 USING(\"Continent_id\") ORDER BY \"Countires_count\" DESC')\n",
    "print(countries_perContinent)"
   ],
   "metadata": {
    "collapsed": false,
    "pycharm": {
     "name": "#%%\n"
    }
   }
  },
  {
   "cell_type": "code",
   "execution_count": 20,
   "outputs": [
    {
     "name": "stdout",
     "output_type": "stream",
     "text": [
      "+--------------+---------------+------------+\n",
      "|   Country    |   Continent   | TotalCases |\n",
      "+--------------+---------------+------------+\n",
      "| South Africa |     Africa    |   814565   |\n",
      "|    India     |      Asia     |  9676801   |\n",
      "|    Russia    |     Europe    |  2460770   |\n",
      "|     USA      | North America |  15113903  |\n",
      "|  Australia   |    Oceania    |   27965    |\n",
      "|    Brazil    | South America |  6582606   |\n",
      "+--------------+---------------+------------+\n"
     ]
    }
   ],
   "source": [
    "# The country with the highest \"TotalCases\" in each continent.\n",
    "country_high_perContinent = db.sql_query('SELECT \"Country\",\"Continent\",\"TotalCases\" FROM (SELECT \"Country\",\"Continent\",\"TotalCases\" ,RANK() OVER(PARTITION BY \"Continent\" ORDER BY \"TotalCases\" DESC) AS \"rank\" FROM (SELECT \"Country\",\"Country_id\",\"TotalCases\" FROM \"All countries updated\" ) AS t1  JOIN (SELECT \"Country_id\", \"Continent_id\" FROM \"All Countries\") AS t2 USING(\"Country_id\")  JOIN (SELECT \"Continent_id\",\"Continent\" FROM \"All Continents\") AS t3 USING(\"Continent_id\")) AS t4 WHERE \"rank\" =1;')\n",
    "print(country_high_perContinent)"
   ],
   "metadata": {
    "collapsed": false,
    "pycharm": {
     "name": "#%%\n"
    }
   }
  },
  {
   "cell_type": "code",
   "execution_count": 21,
   "outputs": [
    {
     "name": "stdout",
     "output_type": "stream",
     "text": [
      "+---------+-------------+\n",
      "| Country | ActiveCases |\n",
      "+---------+-------------+\n",
      "|   USA   |   5988387   |\n",
      "|  France |   2067756   |\n",
      "|  Italy  |    755306   |\n",
      "|  Brazil |    644522   |\n",
      "| Belgium |    533503   |\n",
      "+---------+-------------+\n"
     ]
    }
   ],
   "source": [
    "# Top 5 countries with active cases.\n",
    "top5_countries_active = db.sql_query('SELECT \"Country\",\"ActiveCases\" FROM \"All countries updated\" WHERE \"ActiveCases\" '\n",
    "                                   'IS NOT NULL ORDER BY \"ActiveCases\" DESC LIMIT 5;')\n",
    "print(top5_countries_active)"
   ],
   "metadata": {
    "collapsed": false,
    "pycharm": {
     "name": "#%%\n"
    }
   }
  },
  {
   "cell_type": "code",
   "execution_count": 22,
   "outputs": [
    {
     "name": "stdout",
     "output_type": "stream",
     "text": [
      "+-------------------+\n",
      "| max_NewCases_date |\n",
      "+-------------------+\n",
      "|     2020-09-27    |\n",
      "+-------------------+\n"
     ]
    }
   ],
   "source": [
    "# The date that israel had the highest value of new cases.\n",
    "israel_newCases_date = db.sql_query('SELECT \"scrap_date\" AS \"max_NewCases_date\" FROM \"Israel\" WHERE \"NewCases\" = (Select MAX(\"NewCases\") FROM \"Israel\")')\n",
    "print(israel_newCases_date)"
   ],
   "metadata": {
    "collapsed": false,
    "pycharm": {
     "name": "#%%\n"
    }
   }
  },
  {
   "cell_type": "code",
   "execution_count": 23,
   "outputs": [
    {
     "name": "stdout",
     "output_type": "stream",
     "text": [
      "+---------------+-------------+------+\n",
      "|   Continent   | ActiveCases | rank |\n",
      "+---------------+-------------+------+\n",
      "|     Europe    |   9801896   |  1   |\n",
      "| North America |   6451450   |  2   |\n",
      "|      Asia     |   1739002   |  3   |\n",
      "| South America |    946026   |  4   |\n",
      "|     Africa    |    285249   |  5   |\n",
      "|    Oceania    |    11753    |  6   |\n",
      "+---------------+-------------+------+\n"
     ]
    }
   ],
   "source": [
    "# Ranking each continent by its active cases.\n",
    "continent_active_rank = db.sql_query('SELECT \"Continent\",\"ActiveCases\", RANK() OVER(ORDER BY \"ActiveCases\" DESC) FROM \"All continents updated\" WHERE \"Continent\" <> \\'World\\'')\n",
    "print(continent_active_rank)"
   ],
   "metadata": {
    "collapsed": false,
    "pycharm": {
     "name": "#%%\n"
    }
   }
  },
  {
   "cell_type": "code",
   "execution_count": 24,
   "outputs": [
    {
     "name": "stdout",
     "output_type": "stream",
     "text": [
      "+---------------+-------------+\n",
      "| Earliest Date | Latest Date |\n",
      "+---------------+-------------+\n",
      "|   2020-08-02  |  2020-12-06 |\n",
      "+---------------+-------------+\n"
     ]
    }
   ],
   "source": [
    "israel_minMax_dates = db.sql_query('SELECT MIN(\"scrap_date\") as \"Earliest Date\",MAX(\"scrap_date\") as \"Latest Date\" FROM \"Israel\"')\n",
    "print(israel_minMax_dates)"
   ],
   "metadata": {
    "collapsed": false,
    "pycharm": {
     "name": "#%%\n"
    }
   }
  }
 ],
 "metadata": {
  "kernelspec": {
   "display_name": "Python 3",
   "language": "python",
   "name": "python3"
  },
  "language_info": {
   "codemirror_mode": {
    "name": "ipython",
    "version": 2
   },
   "file_extension": ".py",
   "mimetype": "text/x-python",
   "name": "python",
   "nbconvert_exporter": "python",
   "pygments_lexer": "ipython2",
   "version": "2.7.6"
  },
  "pycharm": {
   "stem_cell": {
    "cell_type": "raw",
    "source": [
     "# -*- coding: utf-8 -*-\n"
    ],
    "metadata": {
     "collapsed": false
    }
   }
  }
 },
 "nbformat": 4,
 "nbformat_minor": 0
}