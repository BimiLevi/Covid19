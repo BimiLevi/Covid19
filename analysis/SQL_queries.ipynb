{
 "cells": [
  {
   "cell_type": "code",
   "execution_count": 35,
   "metadata": {
    "collapsed": true
   },
   "outputs": [],
   "source": [
    "from database.db_config import current_db as db"
   ]
  },
  {
   "cell_type": "code",
   "execution_count": 36,
   "outputs": [
    {
     "name": "stdout",
     "output_type": "stream",
     "text": [
      "DDL executed successfully.\n",
      "DDL executed successfully.\n"
     ]
    }
   ],
   "source": [
    "#  Alter the headers types, before querying.\n",
    "db.execute_ddl('ALTER TABLE \"All continents updated\" ALTER COLUMN \"TotalCases\" TYPE INT USING \"TotalCases\"::integer,ALTER COLUMN \"NewCases\" TYPE INT, ALTER COLUMN \"TotalDeaths\" TYPE INT USING \"TotalDeaths\"::integer,ALTER COLUMN \"NewDeaths\" TYPE INT, ALTER COLUMN \"TotalRecovered\" TYPE INT USING \"TotalRecovered\"::integer,ALTER COLUMN \"NewRecovered\" TYPE INT, ALTER COLUMN \"ActiveCases\" TYPE INT USING \"ActiveCases\"::integer,ALTER COLUMN \"SeriousCritical\" TYPE INT USING \"SeriousCritical\"::integer, ALTER COLUMN \"scrap_date\" SET DATA TYPE date USING to_date(cast(\"scrap_date\" as TEXT), \\'yyyy-mm-dd\\')')\n",
    "db.execute_ddl('ALTER TABLE \"All countries updated\" ALTER COLUMN \"TotalCases\" TYPE INT USING \"TotalCases\"::integer,ALTER COLUMN \"NewCases\" TYPE INT, ALTER COLUMN \"TotalDeaths\" TYPE INT USING \"TotalDeaths\"::integer,ALTER COLUMN \"NewDeaths\" TYPE INT, ALTER COLUMN \"TotalRecovered\" TYPE INT USING \"TotalRecovered\"::integer,ALTER COLUMN \"NewRecovered\" TYPE INT, ALTER COLUMN \"ActiveCases\" TYPE INT USING \"ActiveCases\"::integer,ALTER COLUMN \"SeriousCritical\" TYPE INT USING \"SeriousCritical\"::integer,ALTER COLUMN \"scrap_date\" SET DATA TYPE date USING to_date(cast(\"scrap_date\" as TEXT), \\'yyyy-mm-dd\\')')\n"
   ],
   "metadata": {
    "collapsed": false,
    "pycharm": {
     "name": "#%%\n"
    }
   }
  },
  {
   "cell_type": "code",
   "execution_count": 37,
   "outputs": [
    {
     "name": "stdout",
     "output_type": "stream",
     "text": [
      "+---------+------------+\n",
      "| Country | TotalCases |\n",
      "+---------+------------+\n",
      "|   USA   |  17074294  |\n",
      "| Vanuatu |     1      |\n",
      "+---------+------------+\n"
     ]
    }
   ],
   "source": [
    "countries_minMax = db.sql_query('SELECT \"Country\", \"TotalCases\" FROM \"All countries updated\"'\n",
    "                        'WHERE \"TotalCases\" IN  ((SELECT MIN(\"TotalCases\")FROM \"All countries updated\" LIMIT 1),'\n",
    "\t\t\t\t\t\t                       '((SELECT MAX(\"TotalCases\") FROM \"All countries updated\"LIMIT 1)))')\n",
    "print(countries_minMax)"
   ],
   "metadata": {
    "collapsed": false,
    "pycharm": {
     "name": "#%%\n"
    }
   }
  },
  {
   "cell_type": "code",
   "execution_count": 38,
   "outputs": [
    {
     "name": "stdout",
     "output_type": "stream",
     "text": [
      "+-----------+------------+\n",
      "| Continent | TotalCases |\n",
      "+-----------+------------+\n",
      "|   Europe  |  20194352  |\n",
      "|  Oceania  |   46722    |\n",
      "+-----------+------------+\n"
     ]
    }
   ],
   "source": [
    "# TotalCases Min and Max by a continent.\n",
    "continents_minMax = db.sql_query('SELECT \"Continent\", \"TotalCases\" FROM \"All continents updated\"'\n",
    "                        'WHERE \"TotalCases\" IN  ((SELECT MIN(\"TotalCases\")FROM \"All continents updated\" WHERE \"Continent\" <>  \\'World\\' LIMIT 1),'\n",
    "\t\t\t\t\t\t                       '((SELECT MAX(\"TotalCases\") FROM \"All continents updated\" WHERE \"Continent\" <>  \\'World\\'LIMIT 1)))')\n",
    "print(continents_minMax)"
   ],
   "metadata": {
    "collapsed": false,
    "pycharm": {
     "name": "#%%\n"
    }
   }
  },
  {
   "cell_type": "code",
   "execution_count": 39,
   "outputs": [
    {
     "name": "stdout",
     "output_type": "stream",
     "text": [
      "+------------------+---------------+------------+-----------------+-------------+-----------------+\n",
      "|     Country      |   Continent   | TotalCases | TotalCases_Rank | ActiveCases | SeriousCritical |\n",
      "+------------------+---------------+------------+-----------------+-------------+-----------------+\n",
      "|   South Africa   |     Africa    |   866127   |        1        |    79930    |       546       |\n",
      "|     Morocco      |     Africa    |   403619   |        2        |    33997    |       1078      |\n",
      "|      Egypt       |     Africa    |   122086   |        3        |    10011    |        90       |\n",
      "|      India       |      Asia     |  9932842   |        1        |    333048   |       8944      |\n",
      "|      Turkey      |      Asia     |  1898447   |        2        |    220375   |       5988      |\n",
      "|       Iran       |      Asia     |  1123474   |        3        |    237528   |       5704      |\n",
      "|      Russia      |     Europe    |  2707945   |        1        |    510367   |       2300      |\n",
      "|      France      |     Europe    |  2391447   |        2        |   2153288   |       2881      |\n",
      "|        UK        |     Europe    |  1888116   |        3        |     None    |       1288      |\n",
      "|       USA        | North America |  17074294  |        1        |   6807127   |      27874      |\n",
      "|      Mexico      | North America |  1255974   |        2        |    213922   |       3550      |\n",
      "|      Canada      | North America |   473353   |        3        |    76217    |       596       |\n",
      "|    Australia     |    Oceania    |   28045    |        1        |     1451    |        1        |\n",
      "| French Polynesia |    Oceania    |   15747    |        2        |    10809    |        25       |\n",
      "|   New Zealand    |    Oceania    |    2096    |        3        |      56     |       None      |\n",
      "|      Brazil      | South America |  6970034   |        1        |    771150   |       8318      |\n",
      "|    Argentina     | South America |  1503222   |        2        |    122061   |       3478      |\n",
      "|     Colombia     | South America |  1434516   |        3        |    73852    |       2376      |\n",
      "+------------------+---------------+------------+-----------------+-------------+-----------------+\n"
     ]
    }
   ],
   "source": [
    "# Top 3 countries with the highest number of cases by Continents.\n",
    "top3_totalCases = db.sql_query('SELECT * '\n",
    "                                'FROM (SELECT \"Country\",\"Continent\",\"TotalCases\",RANK() OVER(PARTITION BY \"Continent\" ORDER BY \"TotalCases\" DESC) AS \"TotalCases_Rank\",\"ActiveCases\",\"SeriousCritical\"'\n",
    "                                'FROM (SELECT \"Country_id\",\"Continent_id\"'\n",
    "                                        'FROM \"All Countries\") AS t1 JOIN  (SELECT * '\n",
    "                                                                            'FROM \"All Continents\") AS t2 USING(\"Continent_id\")'\n",
    "                                        'JOIN  (SELECT \"Country\",\"Country_id\",\"TotalCases\",\"ActiveCases\",\"SeriousCritical\"'\n",
    "                                                'FROM \"All countries updated\" ) AS t3 USING(\"Country_id\")) AS \"t1\"'\n",
    "                                'WHERE \"TotalCases_Rank\" <=3 ')\n",
    "\n",
    "print(top3_totalCases)"
   ],
   "metadata": {
    "collapsed": false,
    "pycharm": {
     "name": "#%%\n"
    }
   }
  },
  {
   "cell_type": "code",
   "execution_count": 40,
   "outputs": [
    {
     "name": "stdout",
     "output_type": "stream",
     "text": [
      "+------------------+\n",
      "|     Country      |\n",
      "+------------------+\n",
      "|    Australia     |\n",
      "|   New Zealand    |\n",
      "| French Polynesia |\n",
      "| Papua New Guinea |\n",
      "|       Fiji       |\n",
      "|  New Caledonia   |\n",
      "+------------------+\n"
     ]
    }
   ],
   "source": [
    "# Countries that are located in Oceania continent.\n",
    "oceania_countries = db.sql_query('SELECT \"Country\" '\n",
    "                                 'FROM \"All Countries\" '\n",
    "                                 'WHERE \"Continent_id\" IN (SELECT \"Continent_id\" '\n",
    "                                                            'FROM \"All Continents\" '\n",
    "                                 '                           WHERE \"Continent\" = \\'Oceania\\')')\n",
    "print(oceania_countries)"
   ],
   "metadata": {
    "collapsed": false,
    "pycharm": {
     "name": "#%%\n"
    }
   }
  },
  {
   "cell_type": "code",
   "execution_count": 41,
   "outputs": [
    {
     "name": "stdout",
     "output_type": "stream",
     "text": [
      "+---------------+-----------------+\n",
      "|   Continent   | Countires_count |\n",
      "+---------------+-----------------+\n",
      "|     Africa    |        57       |\n",
      "|      Asia     |        49       |\n",
      "|     Europe    |        48       |\n",
      "| North America |        39       |\n",
      "| South America |        14       |\n",
      "|    Oceania    |        6        |\n",
      "+---------------+-----------------+\n"
     ]
    }
   ],
   "source": [
    "# The count of countries in each continent.\n",
    "countries_perContinent = db.sql_query('SELECT \"Continent\",\"Countires_count\" FROM (SELECT * FROM \"All Continents\") AS t1 '\n",
    "                                      'JOIN (SELECT \"Continent_id\", COUNT(\"Country\") AS \"Countires_count\" '\n",
    "                                      'FROM \"All Countries\" G'\n",
    "                                      'ROUP BY \"Continent_id\") AS t2 '\n",
    "                                      'USING(\"Continent_id\") '\n",
    "                                      'ORDER BY \"Countires_count\" DESC')\n",
    "print(countries_perContinent)"
   ],
   "metadata": {
    "collapsed": false,
    "pycharm": {
     "name": "#%%\n"
    }
   }
  },
  {
   "cell_type": "code",
   "execution_count": 42,
   "outputs": [
    {
     "name": "stdout",
     "output_type": "stream",
     "text": [
      "+--------------+---------------+------------+\n",
      "|   Country    |   Continent   | TotalCases |\n",
      "+--------------+---------------+------------+\n",
      "| South Africa |     Africa    |   866127   |\n",
      "|    India     |      Asia     |  9932842   |\n",
      "|    Russia    |     Europe    |  2707945   |\n",
      "|     USA      | North America |  17074294  |\n",
      "|  Australia   |    Oceania    |   28045    |\n",
      "|    Brazil    | South America |  6970034   |\n",
      "+--------------+---------------+------------+\n"
     ]
    }
   ],
   "source": [
    "# The country with the highest \"TotalCases\" in each continent.\n",
    "country_high_perContinent = db.sql_query('SELECT \"Country\",\"Continent\",\"TotalCases\" '\n",
    "                                         'FROM (SELECT \"Country\",\"Continent\",\"TotalCases\" ,RANK() OVER(PARTITION BY \"Continent\" ORDER BY \"TotalCases\" DESC) AS \"rank\" '\n",
    "                                                'FROM (SELECT \"Country\",\"Country_id\",\"TotalCases\" '\n",
    "                                                       'FROM \"All countries updated\" ) AS t1  '\n",
    "                                                       'JOIN (SELECT \"Country_id\", \"Continent_id\" FROM \"All Countries\") AS t2 '\n",
    "                                                        'USING(\"Country_id\") '\n",
    "                                                        'JOIN (SELECT \"Continent_id\",\"Continent\" FROM \"All Continents\") AS t3 '\n",
    "                                                        'USING(\"Continent_id\")) AS t4 '\n",
    "                                         'WHERE \"rank\" =1;')\n",
    "print(country_high_perContinent)"
   ],
   "metadata": {
    "collapsed": false,
    "pycharm": {
     "name": "#%%\n"
    }
   }
  },
  {
   "cell_type": "code",
   "execution_count": 43,
   "outputs": [
    {
     "name": "stdout",
     "output_type": "stream",
     "text": [
      "+------------------------+-------------+\n",
      "|        Country         | ActiveCases |\n",
      "+------------------------+-------------+\n",
      "|          USA           |   6807127   |\n",
      "|         France         |   2153288   |\n",
      "|         Brazil         |    771150   |\n",
      "|         Italy          |    667303   |\n",
      "|        Belgium         |    549457   |\n",
      "|         Russia         |    510367   |\n",
      "|        Ukraine         |    370734   |\n",
      "|        Germany         |    351526   |\n",
      "|         India          |    333048   |\n",
      "|         Poland         |    244389   |\n",
      "|         Serbia         |    243279   |\n",
      "|          Iran          |    237528   |\n",
      "|         Turkey         |    220375   |\n",
      "|         Mexico         |    213922   |\n",
      "|        Hungary         |    195411   |\n",
      "|       Argentina        |    122061   |\n",
      "|         Greece         |    112598   |\n",
      "|       Indonesia        |    93662    |\n",
      "|        Bulgaria        |    90128    |\n",
      "|        Romania         |    87010    |\n",
      "|      South Africa      |    79930    |\n",
      "|         Canada         |    76217    |\n",
      "|        Colombia        |    73852    |\n",
      "|      Switzerland       |    71067    |\n",
      "|        Portugal        |    67805    |\n",
      "|        Czechia         |    64710    |\n",
      "|       Azerbaijan       |    62247    |\n",
      "|       Bangladesh       |    60351    |\n",
      "|        Honduras        |    59965    |\n",
      "|       Lithuania        |    53924    |\n",
      "|          Iraq          |    53110    |\n",
      "|        Ireland         |    51278    |\n",
      "|        Pakistan        |    48008    |\n",
      "|        Lebanon         |    43447    |\n",
      "|         Jordan         |    35342    |\n",
      "|        Austria         |    35281    |\n",
      "|        Morocco         |    33997    |\n",
      "|        Slovakia        |    33969    |\n",
      "|        Denmark         |    33027    |\n",
      "|   Dominican Republic   |    32107    |\n",
      "| Bosnia and Herzegovina |    31224    |\n",
      "|       Costa Rica       |    31109    |\n",
      "|        Algeria         |    29135    |\n",
      "|          Peru          |    29070    |\n",
      "|         Libya          |    28554    |\n",
      "|        Georgia         |    28231    |\n",
      "|         Panama         |    27903    |\n",
      "|         Japan          |    25708    |\n",
      "|        Paraguay        |    25010    |\n",
      "|      Philippines       |    24160    |\n",
      "|       Palestine        |    23419    |\n",
      "|        Albania         |    23096    |\n",
      "|        Tunisia         |    22484    |\n",
      "|        Croatia         |    21861    |\n",
      "|    North Macedonia     |    21711    |\n",
      "|          UAE           |    21622    |\n",
      "|        Belarus         |    21334    |\n",
      "|        Slovenia        |    21115    |\n",
      "|        Ethiopia        |    19422    |\n",
      "|        Armenia         |    19139    |\n",
      "|        Myanmar         |    18930    |\n",
      "|         Israel         |    18832    |\n",
      "|         Uganda         |    17938    |\n",
      "|         Kenya          |    16876    |\n",
      "|        Moldova         |    14717    |\n",
      "|        Malaysia        |    14515    |\n",
      "|       Kazakhstan       |    13802    |\n",
      "|         Cyprus         |    13311    |\n",
      "|        Bolivia         |    11882    |\n",
      "|        S. Korea        |    11205    |\n",
      "|         Chile          |    11190    |\n",
      "|        Finland         |    10993    |\n",
      "|    French Polynesia    |    10809    |\n",
      "|        Ecuador         |    10509    |\n",
      "|         Egypt          |    10011    |\n",
      "|         Nepal          |     9881    |\n",
      "|       Montenegro       |     9454    |\n",
      "|      Afghanistan       |     9202    |\n",
      "|       Sri Lanka        |     9100    |\n",
      "|         Latvia         |     8638    |\n",
      "|       Luxembourg       |     8346    |\n",
      "|         Sudan          |     7784    |\n",
      "|         Angola         |     6981    |\n",
      "|        Estonia         |     6856    |\n",
      "|       Guatemala        |     6813    |\n",
      "|          Oman          |     6739    |\n",
      "|         Norway         |     6442    |\n",
      "|       Guadeloupe       |     6079    |\n",
      "|        Nigeria         |     5863    |\n",
      "|       Kyrgyzstan       |     5727    |\n",
      "|       Martinique       |     5435    |\n",
      "|         Belize         |     4766    |\n",
      "|         Syria          |     4340    |\n",
      "|       Venezuela        |     4128    |\n",
      "|        Jamaica         |     3387    |\n",
      "|        Uruguay         |     3341    |\n",
      "|         Kuwait         |     3198    |\n",
      "|      Saudi Arabia      |     3093    |\n",
      "|          CAR           |     2949    |\n",
      "|       Mauritania       |     2947    |\n",
      "|      El Salvador       |     2660    |\n",
      "|        Mayotte         |     2599    |\n",
      "|        Botswana        |     2379    |\n",
      "|         Qatar          |     2112    |\n",
      "|       Uzbekistan       |     2107    |\n",
      "|          Mali          |     1976    |\n",
      "|        Curaçao         |     1873    |\n",
      "|     French Guiana      |     1840    |\n",
      "|       Mozambique       |     1781    |\n",
      "|        Namibia         |     1768    |\n",
      "|         Malta          |     1706    |\n",
      "|        Zimbabwe        |     1613    |\n",
      "|        Bahrain         |     1588    |\n",
      "|       Nicaragua        |     1500    |\n",
      "|          DRC           |     1466    |\n",
      "|        Bahamas         |     1453    |\n",
      "|       Australia        |     1451    |\n",
      "|       Hong Kong        |     1254    |\n",
      "|      Burkina Faso      |     1198    |\n",
      "|         Congo          |     1112    |\n",
      "|         Haiti          |     1074    |\n",
      "|         Ghana          |     978     |\n",
      "|         Niger          |     946     |\n",
      "|        Somalia         |     929     |\n",
      "|        Cameroon        |     920     |\n",
      "|        Lesotho         |     865     |\n",
      "|          Cuba          |     859     |\n",
      "|    Channel Islands     |     767     |\n",
      "|         Guyana         |     710     |\n",
      "|         Rwanda         |     695     |\n",
      "|         Guinea         |     664     |\n",
      "|        Senegal         |     623     |\n",
      "|        Andorra         |     597     |\n",
      "|        Maldives        |     584     |\n",
      "|  Trinidad and Tobago   |     582     |\n",
      "|         Zambia         |     573     |\n",
      "|        Mongolia        |     533     |\n",
      "|      Sierra Leone      |     523     |\n",
      "|       Tajikistan       |     477     |\n",
      "|        Réunion         |     455     |\n",
      "|          Togo          |     411     |\n",
      "|       Madagascar       |     336     |\n",
      "|         China          |     312     |\n",
      "|      Ivory Coast       |     307     |\n",
      "|        Tanzania        |     305     |\n",
      "|        Eswatini        |     304     |\n",
      "|       San Marino       |     245     |\n",
      "|        Thailand        |     237     |\n",
      "|        Liberia         |     235     |\n",
      "|         Malawi         |     234     |\n",
      "|       Cabo Verde       |     230     |\n",
      "|        Bermuda         |     200     |\n",
      "|     Liechtenstein      |     192     |\n",
      "|        Eritrea         |     147     |\n",
      "|        Iceland         |     142     |\n",
      "|         Taiwan         |     124     |\n",
      "|      Sint Maarten      |     124     |\n",
      "|         Aruba          |     122     |\n",
      "|        Vietnam         |     118     |\n",
      "|    Papua New Guinea    |     116     |\n",
      "|      Saint Martin      |     114     |\n",
      "|      South Sudan       |     101     |\n",
      "|         Yemen          |      94     |\n",
      "|        Burundi         |      94     |\n",
      "|         Gabon          |      84     |\n",
      "|       Singapore        |      79     |\n",
      "|         Benin          |      74     |\n",
      "|         Monaco         |      63     |\n",
      "|     Guinea-Bissau      |      63     |\n",
      "|          Chad          |      61     |\n",
      "|        Djibouti        |      60     |\n",
      "|       Gibraltar        |      58     |\n",
      "|      New Zealand       |      56     |\n",
      "|        Cambodia        |      50     |\n",
      "|   Equatorial Guinea    |      49     |\n",
      "| Sao Tome and Principe  |      41     |\n",
      "|       St. Barth        |      34     |\n",
      "|         Bhutan         |      34     |\n",
      "|      Saint Lucia       |      34     |\n",
      "|        Grenada         |      28     |\n",
      "|       Mauritius        |      25     |\n",
      "|     Faeroe Islands     |      24     |\n",
      "|     Cayman Islands     |      23     |\n",
      "|    Turks and Caicos    |      22     |\n",
      "| St. Vincent Grenadines |      17     |\n",
      "|        Barbados        |      17     |\n",
      "|        Suriname        |      15     |\n",
      "|        Comoros         |      15     |\n",
      "|    Solomon Islands     |      12     |\n",
      "|      Vatican City      |      12     |\n",
      "|         Gambia         |      12     |\n",
      "|          Laos          |      7      |\n",
      "| Caribbean Netherlands  |      7      |\n",
      "|        Anguilla        |      6      |\n",
      "|          Fiji          |      6      |\n",
      "|  Antigua and Barbuda   |      5      |\n",
      "|        Dominica        |      5      |\n",
      "|       Seychelles       |      5      |\n",
      "| Saint Kitts and Nevis  |      5      |\n",
      "|      Isle of Man       |      4      |\n",
      "| British Virgin Islands |      3      |\n",
      "|         Brunei         |      2      |\n",
      "|   Wallis and Futuna    |      2      |\n",
      "|      Timor-Leste       |      1      |\n",
      "|     Western Sahara     |      1      |\n",
      "|       Greenland        |      1      |\n",
      "|     New Caledonia      |      1      |\n",
      "|    Marshall Islands    |      0      |\n",
      "|         Samoa          |      0      |\n",
      "|        Vanuatu         |      0      |\n",
      "|         Macao          |      0      |\n",
      "|    Falkland Islands    |      0      |\n",
      "| Saint Pierre Miquelon  |      0      |\n",
      "|       Montserrat       |      0      |\n",
      "|    Diamond Princess    |      0      |\n",
      "|       MS Zaandam       |      0      |\n",
      "+------------------------+-------------+\n"
     ]
    }
   ],
   "source": [
    "# Top 5 countries with active cases.\n",
    "top5_countries_active = db.sql_query('SELECT \"Country\",\"ActiveCases\" '\n",
    "                                     'FROM \"All countries updated\" '\n",
    "                                     'WHERE \"ActiveCases\" IS NOT NULL '\n",
    "                                     'ORDER BY \"ActiveCases\" DESC LIMIT 5;')\n",
    "print(top5_countries_active)"
   ],
   "metadata": {
    "collapsed": false,
    "pycharm": {
     "name": "#%%\n"
    }
   }
  },
  {
   "cell_type": "code",
   "execution_count": 44,
   "outputs": [
    {
     "name": "stdout",
     "output_type": "stream",
     "text": [
      "+-------------------+\n",
      "| max_NewCases_date |\n",
      "+-------------------+\n",
      "|     2020-09-27    |\n",
      "+-------------------+\n"
     ]
    }
   ],
   "source": [
    "# The date that israel had the highest value of new cases.\n",
    "israel_newCases_date = db.sql_query('SELECT \"scrap_date\" AS \"max_NewCases_date\" '\n",
    "                                    'FROM \"Israel\" '\n",
    "                                    'WHERE \"NewCases\" = (Select MAX(\"NewCases\") '\n",
    "                                    '                    FROM \"Israel\")')\n",
    "print(israel_newCases_date)"
   ],
   "metadata": {
    "collapsed": false,
    "pycharm": {
     "name": "#%%\n"
    }
   }
  },
  {
   "cell_type": "code",
   "execution_count": 45,
   "outputs": [
    {
     "name": "stdout",
     "output_type": "stream",
     "text": [
      "+---------------+-------------+------+\n",
      "|   Continent   | ActiveCases | rank |\n",
      "+---------------+-------------+------+\n",
      "|     Europe    |   10207947  |  1   |\n",
      "| North America |   7285598   |  2   |\n",
      "|      Asia     |   1480985   |  3   |\n",
      "| South America |   1064758   |  4   |\n",
      "|     Africa    |    312128   |  5   |\n",
      "|    Oceania    |    12453    |  6   |\n",
      "+---------------+-------------+------+\n"
     ]
    }
   ],
   "source": [
    "# Ranking each continent by its active cases.\n",
    "continent_active_rank = db.sql_query('SELECT \"Continent\",\"ActiveCases\", RANK() OVER(ORDER BY \"ActiveCases\" DESC) '\n",
    "                                     'FROM \"All continents updated\" '\n",
    "                                     'WHERE \"Continent\" <> \\'World\\'')\n",
    "print(continent_active_rank)"
   ],
   "metadata": {
    "collapsed": false,
    "pycharm": {
     "name": "#%%\n"
    }
   }
  },
  {
   "cell_type": "code",
   "execution_count": 46,
   "outputs": [
    {
     "name": "stdout",
     "output_type": "stream",
     "text": [
      "+---------------+-------------+\n",
      "| Earliest Date | Latest Date |\n",
      "+---------------+-------------+\n",
      "|   2020-08-02  |  2020-12-15 |\n",
      "+---------------+-------------+\n"
     ]
    }
   ],
   "source": [
    "israel_minMax_dates = db.sql_query('SELECT MIN(\"scrap_date\") as \"Earliest Date\",MAX(\"scrap_date\") as \"Latest Date\" '\n",
    "                                   'FROM \"Israel\"')\n",
    "print(israel_minMax_dates)"
   ],
   "metadata": {
    "collapsed": false,
    "pycharm": {
     "name": "#%%\n"
    }
   }
  }
 ],
 "metadata": {
  "kernelspec": {
   "display_name": "Python 3",
   "language": "python",
   "name": "python3"
  },
  "language_info": {
   "codemirror_mode": {
    "name": "ipython",
    "version": 2
   },
   "file_extension": ".py",
   "mimetype": "text/x-python",
   "name": "python",
   "nbconvert_exporter": "python",
   "pygments_lexer": "ipython2",
   "version": "2.7.6"
  },
  "pycharm": {
   "stem_cell": {
    "cell_type": "raw",
    "source": [
     "# -*- coding: utf-8 -*-\n"
    ],
    "metadata": {
     "collapsed": false
    }
   }
  }
 },
 "nbformat": 4,
 "nbformat_minor": 0
}