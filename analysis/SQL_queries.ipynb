{
 "cells": [
  {
   "cell_type": "code",
   "execution_count": 1,
   "metadata": {
    "collapsed": true
   },
   "outputs": [],
   "source": [
    "from database.db_config import current_db as db"
   ]
  },
  {
   "cell_type": "code",
   "execution_count": 2,
   "outputs": [
    {
     "name": "stdout",
     "output_type": "stream",
     "text": [
      "DDL executed successfully.\n",
      "DDL executed successfully.\n"
     ]
    }
   ],
   "source": [
    "# # Alter the headers types, before querying.\n",
    "db.execute_ddl('ALTER TABLE \"All continents updated\" ALTER COLUMN \"TotalCases\" TYPE INT USING \"TotalCases\"::integer,ALTER COLUMN \"NewCases\" TYPE INT, ALTER COLUMN \"TotalDeaths\" TYPE INT USING \"TotalDeaths\"::integer,ALTER COLUMN \"NewDeaths\" TYPE INT, ALTER COLUMN \"TotalRecovered\" TYPE INT USING \"TotalRecovered\"::integer,ALTER COLUMN \"NewRecovered\" TYPE INT, ALTER COLUMN \"ActiveCases\" TYPE INT USING \"ActiveCases\"::integer,ALTER COLUMN \"SeriousCritical\" TYPE INT USING \"SeriousCritical\"::integer, ALTER COLUMN \"scrap_date\" SET DATA TYPE date USING to_date(cast(\"scrap_date\" as TEXT), \\'yyyy-mm-dd\\')')\n",
    "db.execute_ddl('ALTER TABLE \"All countries updated\" ALTER COLUMN \"TotalCases\" TYPE INT USING \"TotalCases\"::integer,ALTER COLUMN \"NewCases\" TYPE INT, ALTER COLUMN \"TotalDeaths\" TYPE INT USING \"TotalDeaths\"::integer,ALTER COLUMN \"NewDeaths\" TYPE INT, ALTER COLUMN \"TotalRecovered\" TYPE INT USING \"TotalRecovered\"::integer,ALTER COLUMN \"NewRecovered\" TYPE INT, ALTER COLUMN \"ActiveCases\" TYPE INT USING \"ActiveCases\"::integer,ALTER COLUMN \"SeriousCritical\" TYPE INT USING \"SeriousCritical\"::integer,ALTER COLUMN \"scrap_date\" SET DATA TYPE date USING to_date(cast(\"scrap_date\" as TEXT), \\'yyyy-mm-dd\\')')\n"
   ],
   "metadata": {
    "collapsed": false,
    "pycharm": {
     "name": "#%%\n"
    }
   }
  },
  {
   "cell_type": "code",
   "execution_count": 3,
   "outputs": [
    {
     "name": "stdout",
     "output_type": "stream",
     "text": [
      "+---------+------------+\n",
      "| Country | TotalCases |\n",
      "+---------+------------+\n",
      "|   USA   |  16882708  |\n",
      "| Vanuatu |     1      |\n",
      "+---------+------------+\n"
     ]
    }
   ],
   "source": [
    "countries_minMax = db.sql_query('SELECT \"Country\", \"TotalCases\" FROM \"All countries updated\"'\n",
    "                        'WHERE \"TotalCases\" IN  ((SELECT MIN(\"TotalCases\")FROM \"All countries updated\" LIMIT 1),'\n",
    "\t\t\t\t\t\t                       '((SELECT MAX(\"TotalCases\") FROM \"All countries updated\"LIMIT 1)))')\n",
    "print(countries_minMax)"
   ],
   "metadata": {
    "collapsed": false,
    "pycharm": {
     "name": "#%%\n"
    }
   }
  },
  {
   "cell_type": "code",
   "execution_count": 4,
   "outputs": [
    {
     "name": "stdout",
     "output_type": "stream",
     "text": [
      "+-----------+------------+\n",
      "| Continent | TotalCases |\n",
      "+-----------+------------+\n",
      "|   Europe  |  19996985  |\n",
      "|  Oceania  |   46587    |\n",
      "+-----------+------------+\n"
     ]
    }
   ],
   "source": [
    "# TotalCases Min and Max by a continent.\n",
    "continents_minMax = db.sql_query('SELECT \"Continent\", \"TotalCases\" FROM \"All continents updated\"'\n",
    "                        'WHERE \"TotalCases\" IN  ((SELECT MIN(\"TotalCases\")FROM \"All continents updated\" WHERE \"Continent\" <>  \\'World\\' LIMIT 1),'\n",
    "\t\t\t\t\t\t                       '((SELECT MAX(\"TotalCases\") FROM \"All continents updated\" WHERE \"Continent\" <>  \\'World\\'LIMIT 1)))')\n",
    "print(continents_minMax)"
   ],
   "metadata": {
    "collapsed": false,
    "pycharm": {
     "name": "#%%\n"
    }
   }
  },
  {
   "cell_type": "code",
   "execution_count": 5,
   "outputs": [
    {
     "name": "stdout",
     "output_type": "stream",
     "text": [
      "+-----------+---------------+------------+------------------------------+-------------+-----------------+\n",
      "|  Country  |   Continent   | TotalCases | Continent_rank_by_TotalCases | ActiveCases | SeriousCritical |\n",
      "+-----------+---------------+------------+------------------------------+-------------+-----------------+\n",
      "|   India   |      Asia     |  9906484   |              1               |    340943   |       8944      |\n",
      "|   Turkey  |      Asia     |  1866345   |              2               |    217755   |       5980      |\n",
      "|    Iran   |      Asia     |  1115770   |              3               |    240092   |       5711      |\n",
      "|   Russia  |     Europe    |  2681256   |              1               |    509068   |       2300      |\n",
      "|   France  |     Europe    |  2379915   |              2               |   2143986   |       2906      |\n",
      "|     UK    |     Europe    |  1869666   |              3               |     None    |       1275      |\n",
      "|   Italy   |     Europe    |  1855737   |              4               |    675109   |       3095      |\n",
      "|   Spain   |     Europe    |  1762036   |              5               |     None    |       2068      |\n",
      "|  Germany  |     Europe    |  1357141   |              6               |    350057   |       4670      |\n",
      "|   Poland  |     Europe    |  1140572   |              7               |    248457   |       1807      |\n",
      "|    USA    | North America |  16882708  |              1               |   6800284   |      27669      |\n",
      "|   Mexico  | North America |  1250044   |              2               |    217410   |       3550      |\n",
      "|   Brazil  | South America |  6927145   |              1               |    762357   |       8318      |\n",
      "| Argentina | South America |  1498160   |              2               |    122077   |       3537      |\n",
      "|  Colombia | South America |  1425774   |              3               |    71885    |       2376      |\n",
      "+-----------+---------------+------------+------------------------------+-------------+-----------------+\n"
     ]
    }
   ],
   "source": [
    "# Top 15 countries with the highest number of cases.\n",
    "top15_totalCases = db.sql_query('SELECT \"Country\",\"Continent\",\"TotalCases\",RANK() OVER(PARTITION BY \"Continent\" ORDER BY \"TotalCases\" DESC) AS \"Continent_rank_by_TotalCases\",\"ActiveCases\",\"SeriousCritical\" FROM (SELECT \"Country_id\",\"Continent_id\" FROM \"All Countries\") AS t1 JOIN  (SELECT * FROM \"All Continents\") AS t2 USING(\"Continent_id\") JOIN  (SELECT \"Country\",\"Country_id\",\"TotalCases\",\"ActiveCases\",\"SeriousCritical\"  FROM \"All countries updated\" LIMIT 15) AS t3 USING(\"Country_id\")')\n",
    "print(top15_totalCases)"
   ],
   "metadata": {
    "collapsed": false,
    "pycharm": {
     "name": "#%%\n"
    }
   }
  },
  {
   "cell_type": "code",
   "execution_count": 6,
   "outputs": [
    {
     "name": "stdout",
     "output_type": "stream",
     "text": [
      "+------------------+\n",
      "|     Country      |\n",
      "+------------------+\n",
      "|    Australia     |\n",
      "|   New Zealand    |\n",
      "| French Polynesia |\n",
      "| Papua New Guinea |\n",
      "|       Fiji       |\n",
      "|  New Caledonia   |\n",
      "+------------------+\n"
     ]
    }
   ],
   "source": [
    "# Countries that are located in Oceania continent.\n",
    "oceania_countries = db.sql_query('SELECT \"Country\" FROM \"All Countries\" WHERE \"Continent_id\" IN (SELECT '\n",
    "                                 '\"Continent_id\" FROM \"All Continents\" WHERE \"Continent\" = \\'Oceania\\')')\n",
    "print(oceania_countries)"
   ],
   "metadata": {
    "collapsed": false,
    "pycharm": {
     "name": "#%%\n"
    }
   }
  },
  {
   "cell_type": "code",
   "execution_count": 7,
   "outputs": [
    {
     "name": "stdout",
     "output_type": "stream",
     "text": [
      "+---------------+-----------------+\n",
      "|   Continent   | Countires_count |\n",
      "+---------------+-----------------+\n",
      "|     Africa    |        57       |\n",
      "|      Asia     |        49       |\n",
      "|     Europe    |        48       |\n",
      "| North America |        39       |\n",
      "| South America |        14       |\n",
      "|    Oceania    |        6        |\n",
      "+---------------+-----------------+\n"
     ]
    }
   ],
   "source": [
    "# The count of countries in each continent.\n",
    "countries_perContinent = db.sql_query('SELECT \"Continent\",\"Countires_count\" FROM (SELECT * FROM \"All Continents\") AS ''t1 JOIN (SELECT \"Continent_id\", COUNT(\"Country\") AS \"Countires_count\" FROM \"All Countries\" GROUP BY \"Continent_id\") AS t2 USING(\"Continent_id\") ORDER BY \"Countires_count\" DESC')\n",
    "print(countries_perContinent)"
   ],
   "metadata": {
    "collapsed": false,
    "pycharm": {
     "name": "#%%\n"
    }
   }
  },
  {
   "cell_type": "code",
   "execution_count": 8,
   "outputs": [
    {
     "name": "stdout",
     "output_type": "stream",
     "text": [
      "+--------------+---------------+------------+\n",
      "|   Country    |   Continent   | TotalCases |\n",
      "+--------------+---------------+------------+\n",
      "| South Africa |     Africa    |   866127   |\n",
      "|    India     |      Asia     |  9906484   |\n",
      "|    Russia    |     Europe    |  2681256   |\n",
      "|     USA      | North America |  16882708  |\n",
      "|  Australia   |    Oceania    |   28039    |\n",
      "|    Brazil    | South America |  6927145   |\n",
      "+--------------+---------------+------------+\n"
     ]
    }
   ],
   "source": [
    "# The country with the highest \"TotalCases\" in each continent.\n",
    "country_high_perContinent = db.sql_query('SELECT \"Country\",\"Continent\",\"TotalCases\" FROM (SELECT \"Country\",\"Continent\",\"TotalCases\" ,RANK() OVER(PARTITION BY \"Continent\" ORDER BY \"TotalCases\" DESC) AS \"rank\" FROM (SELECT \"Country\",\"Country_id\",\"TotalCases\" FROM \"All countries updated\" ) AS t1  JOIN (SELECT \"Country_id\", \"Continent_id\" FROM \"All Countries\") AS t2 USING(\"Country_id\")  JOIN (SELECT \"Continent_id\",\"Continent\" FROM \"All Continents\") AS t3 USING(\"Continent_id\")) AS t4 WHERE \"rank\" =1;')\n",
    "print(country_high_perContinent)"
   ],
   "metadata": {
    "collapsed": false,
    "pycharm": {
     "name": "#%%\n"
    }
   }
  },
  {
   "cell_type": "code",
   "execution_count": 9,
   "outputs": [
    {
     "name": "stdout",
     "output_type": "stream",
     "text": [
      "+---------+-------------+\n",
      "| Country | ActiveCases |\n",
      "+---------+-------------+\n",
      "|   USA   |   6800284   |\n",
      "|  France |   2143986   |\n",
      "|  Brazil |    762357   |\n",
      "|  Italy  |    675109   |\n",
      "| Belgium |    548525   |\n",
      "+---------+-------------+\n"
     ]
    }
   ],
   "source": [
    "# Top 5 countries with active cases.\n",
    "top5_countries_active = db.sql_query('SELECT \"Country\",\"ActiveCases\" FROM \"All countries updated\" WHERE \"ActiveCases\" '\n",
    "                                   'IS NOT NULL ORDER BY \"ActiveCases\" DESC LIMIT 5;')\n",
    "print(top5_countries_active)"
   ],
   "metadata": {
    "collapsed": false,
    "pycharm": {
     "name": "#%%\n"
    }
   }
  },
  {
   "cell_type": "code",
   "execution_count": 10,
   "outputs": [
    {
     "name": "stdout",
     "output_type": "stream",
     "text": [
      "+-------------------+\n",
      "| max_NewCases_date |\n",
      "+-------------------+\n",
      "|     2020-09-27    |\n",
      "+-------------------+\n"
     ]
    }
   ],
   "source": [
    "# The date that israel had the highest value of new cases.\n",
    "israel_newCases_date = db.sql_query('SELECT \"scrap_date\" AS \"max_NewCases_date\" FROM \"Israel\" WHERE \"NewCases\" = (Select MAX(\"NewCases\") FROM \"Israel\")')\n",
    "print(israel_newCases_date)"
   ],
   "metadata": {
    "collapsed": false,
    "pycharm": {
     "name": "#%%\n"
    }
   }
  },
  {
   "cell_type": "code",
   "execution_count": 11,
   "outputs": [
    {
     "name": "stdout",
     "output_type": "stream",
     "text": [
      "+---------------+-------------+------+\n",
      "|   Continent   | ActiveCases | rank |\n",
      "+---------------+-------------+------+\n",
      "|     Europe    |   10154645  |  1   |\n",
      "| North America |   7287168   |  2   |\n",
      "|      Asia     |   1488917   |  3   |\n",
      "| South America |   1055287   |  4   |\n",
      "|     Africa    |    313195   |  5   |\n",
      "|    Oceania    |    12325    |  6   |\n",
      "+---------------+-------------+------+\n"
     ]
    }
   ],
   "source": [
    "# Ranking each continent by its active cases.\n",
    "continent_active_rank = db.sql_query('SELECT \"Continent\",\"ActiveCases\", RANK() OVER(ORDER BY \"ActiveCases\" DESC) FROM \"All continents updated\" WHERE \"Continent\" <> \\'World\\'')\n",
    "print(continent_active_rank)"
   ],
   "metadata": {
    "collapsed": false,
    "pycharm": {
     "name": "#%%\n"
    }
   }
  },
  {
   "cell_type": "code",
   "execution_count": 12,
   "outputs": [
    {
     "name": "stdout",
     "output_type": "stream",
     "text": [
      "+---------------+-------------+\n",
      "| Earliest Date | Latest Date |\n",
      "+---------------+-------------+\n",
      "|   2020-08-02  |  2020-12-14 |\n",
      "+---------------+-------------+\n"
     ]
    }
   ],
   "source": [
    "israel_minMax_dates = db.sql_query('SELECT MIN(\"scrap_date\") as \"Earliest Date\",MAX(\"scrap_date\") as \"Latest Date\" FROM \"Israel\"')\n",
    "print(israel_minMax_dates)"
   ],
   "metadata": {
    "collapsed": false,
    "pycharm": {
     "name": "#%%\n"
    }
   }
  }
 ],
 "metadata": {
  "kernelspec": {
   "display_name": "Python 3",
   "language": "python",
   "name": "python3"
  },
  "language_info": {
   "codemirror_mode": {
    "name": "ipython",
    "version": 2
   },
   "file_extension": ".py",
   "mimetype": "text/x-python",
   "name": "python",
   "nbconvert_exporter": "python",
   "pygments_lexer": "ipython2",
   "version": "2.7.6"
  },
  "pycharm": {
   "stem_cell": {
    "cell_type": "raw",
    "source": [
     "# -*- coding: utf-8 -*-\n"
    ],
    "metadata": {
     "collapsed": false
    }
   }
  }
 },
 "nbformat": 4,
 "nbformat_minor": 0
}