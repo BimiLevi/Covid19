{
 "cells": [
  {
   "cell_type": "markdown",
   "source": [
    "# <center> *Country Report* <center/>\n",
    "## <center> *Date: 03.12.2020* <center/>\n",
    "## <center> *By: Tal Levi* <center/>"
   ],
   "metadata": {
    "collapsed": false
   }
  },
  {
   "cell_type": "code",
   "execution_count": 1,
   "metadata": {
    "collapsed": true,
    "pycharm": {
     "name": "#%%\n"
    }
   },
   "outputs": [],
   "source": [
    "import calendar\n",
    "import pandas as pd\n",
    "from analysis.classes import Country\n",
    "from datetime import datetime, date\n",
    "import plotly\n",
    "plotly.io.orca.config.executable = r'C:\\Users\\talle\\AppData\\Local\\Programs\\orca\\orca.exe'\n",
    "from plotly.offline import  iplot\n",
    "pd.set_option('display.max_rows', None)\n",
    "pd.set_option('display.max_columns', None)\n",
    "pd.set_option('display.float_format', lambda x: '%.3f' % x)"
   ]
  },
  {
   "cell_type": "code",
   "execution_count": 2,
   "outputs": [],
   "source": [
    "country = Country('usa')\n",
    "df = country.data  # Pandas df object, that contains the data from the db.\n"
   ],
   "metadata": {
    "collapsed": false,
    "pycharm": {
     "name": "#%%\n"
    }
   }
  },
  {
   "cell_type": "markdown",
   "source": [
    "### Part One - Data information"
   ],
   "metadata": {
    "collapsed": false,
    "pycharm": {
     "name": "#%% md\n"
    }
   }
  },
  {
   "cell_type": "code",
   "execution_count": 3,
   "outputs": [
    {
     "name": "stdout",
     "output_type": "stream",
     "text": [
      "\n",
      "Countries name: Usa\n",
      "Countries id: 1\n",
      "Continent: North America\n",
      "Continent id: 1\n",
      "Population: 331171664\n",
      "First update: 2020-08-02\n",
      "Last update: 2020-12-02\n",
      "Data number of rows: 108\n",
      "Data number of columns: 18\n",
      "Columns: \n",
      "['scrap_date', 'scrap_time', 'update_time_GMT', 'Country_id', 'Country', 'Population', 'TotalCases', 'NewCases', 'TotalDeaths', 'NewDeaths', 'TotalRecovered', 'NewRecovered', 'ActiveCases', 'SeriousCritical', 'Tot_Cases_1Mpop', 'Deaths_1Mpop', 'TotalTests', 'Tests_1Mpop']\n",
      "\t\t\n"
     ]
    }
   ],
   "source": [
    "print(country)"
   ],
   "metadata": {
    "collapsed": false,
    "pycharm": {
     "name": "#%%\n"
    }
   }
  },
  {
   "cell_type": "code",
   "execution_count": 4,
   "outputs": [
    {
     "data": {
      "text/plain": "scrap_date         datetime64[ns]\nscrap_time                 object\nupdate_time_GMT            object\nCountry_id                  int64\nCountry                    object\nPopulation                  int64\nTotalCases                  int64\nNewCases                  float64\nTotalDeaths                 int64\nNewDeaths                 float64\nTotalRecovered              int64\nNewRecovered              float64\nActiveCases                 int64\nSeriousCritical             int64\nTot_Cases_1Mpop             int64\nDeaths_1Mpop              float64\nTotalTests                  int64\nTests_1Mpop                 int64\ndtype: object"
     },
     "execution_count": 4,
     "metadata": {},
     "output_type": "execute_result"
    }
   ],
   "source": [
    "df.dtypes"
   ],
   "metadata": {
    "collapsed": false,
    "pycharm": {
     "name": "#%%\n"
    }
   }
  },
  {
   "cell_type": "code",
   "execution_count": 5,
   "outputs": [
    {
     "name": "stdout",
     "output_type": "stream",
     "text": [
      "Number of null values are:\n"
     ]
    },
    {
     "data": {
      "text/plain": "                 null_count\nscrap_date                0\nscrap_time                0\nupdate_time_GMT          59\nCountry_id                0\nCountry                   0\nPopulation                0\nTotalCases                0\nNewCases                  1\nTotalDeaths               0\nNewDeaths                 1\nTotalRecovered            0\nNewRecovered              1\nActiveCases               0\nSeriousCritical           0\nTot_Cases_1Mpop           0\nDeaths_1Mpop              0\nTotalTests                0\nTests_1Mpop               0",
      "text/html": "<div>\n<style scoped>\n    .dataframe tbody tr th:only-of-type {\n        vertical-align: middle;\n    }\n\n    .dataframe tbody tr th {\n        vertical-align: top;\n    }\n\n    .dataframe thead th {\n        text-align: right;\n    }\n</style>\n<table border=\"1\" class=\"dataframe\">\n  <thead>\n    <tr style=\"text-align: right;\">\n      <th></th>\n      <th>null_count</th>\n    </tr>\n  </thead>\n  <tbody>\n    <tr>\n      <th>scrap_date</th>\n      <td>0</td>\n    </tr>\n    <tr>\n      <th>scrap_time</th>\n      <td>0</td>\n    </tr>\n    <tr>\n      <th>update_time_GMT</th>\n      <td>59</td>\n    </tr>\n    <tr>\n      <th>Country_id</th>\n      <td>0</td>\n    </tr>\n    <tr>\n      <th>Country</th>\n      <td>0</td>\n    </tr>\n    <tr>\n      <th>Population</th>\n      <td>0</td>\n    </tr>\n    <tr>\n      <th>TotalCases</th>\n      <td>0</td>\n    </tr>\n    <tr>\n      <th>NewCases</th>\n      <td>1</td>\n    </tr>\n    <tr>\n      <th>TotalDeaths</th>\n      <td>0</td>\n    </tr>\n    <tr>\n      <th>NewDeaths</th>\n      <td>1</td>\n    </tr>\n    <tr>\n      <th>TotalRecovered</th>\n      <td>0</td>\n    </tr>\n    <tr>\n      <th>NewRecovered</th>\n      <td>1</td>\n    </tr>\n    <tr>\n      <th>ActiveCases</th>\n      <td>0</td>\n    </tr>\n    <tr>\n      <th>SeriousCritical</th>\n      <td>0</td>\n    </tr>\n    <tr>\n      <th>Tot_Cases_1Mpop</th>\n      <td>0</td>\n    </tr>\n    <tr>\n      <th>Deaths_1Mpop</th>\n      <td>0</td>\n    </tr>\n    <tr>\n      <th>TotalTests</th>\n      <td>0</td>\n    </tr>\n    <tr>\n      <th>Tests_1Mpop</th>\n      <td>0</td>\n    </tr>\n  </tbody>\n</table>\n</div>"
     },
     "execution_count": 5,
     "metadata": {},
     "output_type": "execute_result"
    }
   ],
   "source": [
    "print('Number of null values are:')\n",
    "pd.DataFrame(df.isnull().sum()).rename(columns = {0:'null_count'})"
   ],
   "metadata": {
    "collapsed": false,
    "pycharm": {
     "name": "#%%\n"
    }
   }
  },
  {
   "cell_type": "code",
   "execution_count": 6,
   "outputs": [
    {
     "name": "stdout",
     "output_type": "stream",
     "text": [
      "The first five rows of the data:\n"
     ]
    },
    {
     "data": {
      "text/plain": "  scrap_date scrap_time update_time_GMT  Country_id Country  Population  \\\n0 2020-08-02   20:00:00             NaN           1     USA   331171664   \n1 2020-08-08   20:00:00             NaN           1     USA   331203424   \n2 2020-08-12   20:00:00             NaN           1     USA   331224597   \n3 2020-08-16   20:00:00             NaN           1     USA   331245770   \n4 2020-08-17   20:00:00             NaN           1     USA   331251064   \n\n   TotalCases   NewCases  TotalDeaths  NewDeaths  TotalRecovered  \\\n0     4778177        nan       158039        nan         2363229   \n1     5120955 342778.000       164577   6538.000         2620147   \n2     5306851 185896.000       167761   3184.000         2756107   \n3     5530028 223177.000       172608   4847.000         2904130   \n4     5579686  49658.000       173258    650.000         2928179   \n\n   NewRecovered  ActiveCases  SeriousCritical  Tot_Cases_1Mpop  Deaths_1Mpop  \\\n0           nan      2256909            18720            14428       477.000   \n1    256918.000      2336231            18038            15462       497.000   \n2    135960.000      2382983            17339            16022       506.000   \n3    148023.000      2453290            17186            16695       521.000   \n4     24049.000      2478249            17237            16844       523.000   \n\n   TotalTests  Tests_1Mpop  \n0    59259593       178939  \n1    64096129       193525  \n2    66944595       202112  \n3    70228171       212012  \n4    71149490       214790  ",
      "text/html": "<div>\n<style scoped>\n    .dataframe tbody tr th:only-of-type {\n        vertical-align: middle;\n    }\n\n    .dataframe tbody tr th {\n        vertical-align: top;\n    }\n\n    .dataframe thead th {\n        text-align: right;\n    }\n</style>\n<table border=\"1\" class=\"dataframe\">\n  <thead>\n    <tr style=\"text-align: right;\">\n      <th></th>\n      <th>scrap_date</th>\n      <th>scrap_time</th>\n      <th>update_time_GMT</th>\n      <th>Country_id</th>\n      <th>Country</th>\n      <th>Population</th>\n      <th>TotalCases</th>\n      <th>NewCases</th>\n      <th>TotalDeaths</th>\n      <th>NewDeaths</th>\n      <th>TotalRecovered</th>\n      <th>NewRecovered</th>\n      <th>ActiveCases</th>\n      <th>SeriousCritical</th>\n      <th>Tot_Cases_1Mpop</th>\n      <th>Deaths_1Mpop</th>\n      <th>TotalTests</th>\n      <th>Tests_1Mpop</th>\n    </tr>\n  </thead>\n  <tbody>\n    <tr>\n      <th>0</th>\n      <td>2020-08-02</td>\n      <td>20:00:00</td>\n      <td>NaN</td>\n      <td>1</td>\n      <td>USA</td>\n      <td>331171664</td>\n      <td>4778177</td>\n      <td>nan</td>\n      <td>158039</td>\n      <td>nan</td>\n      <td>2363229</td>\n      <td>nan</td>\n      <td>2256909</td>\n      <td>18720</td>\n      <td>14428</td>\n      <td>477.000</td>\n      <td>59259593</td>\n      <td>178939</td>\n    </tr>\n    <tr>\n      <th>1</th>\n      <td>2020-08-08</td>\n      <td>20:00:00</td>\n      <td>NaN</td>\n      <td>1</td>\n      <td>USA</td>\n      <td>331203424</td>\n      <td>5120955</td>\n      <td>342778.000</td>\n      <td>164577</td>\n      <td>6538.000</td>\n      <td>2620147</td>\n      <td>256918.000</td>\n      <td>2336231</td>\n      <td>18038</td>\n      <td>15462</td>\n      <td>497.000</td>\n      <td>64096129</td>\n      <td>193525</td>\n    </tr>\n    <tr>\n      <th>2</th>\n      <td>2020-08-12</td>\n      <td>20:00:00</td>\n      <td>NaN</td>\n      <td>1</td>\n      <td>USA</td>\n      <td>331224597</td>\n      <td>5306851</td>\n      <td>185896.000</td>\n      <td>167761</td>\n      <td>3184.000</td>\n      <td>2756107</td>\n      <td>135960.000</td>\n      <td>2382983</td>\n      <td>17339</td>\n      <td>16022</td>\n      <td>506.000</td>\n      <td>66944595</td>\n      <td>202112</td>\n    </tr>\n    <tr>\n      <th>3</th>\n      <td>2020-08-16</td>\n      <td>20:00:00</td>\n      <td>NaN</td>\n      <td>1</td>\n      <td>USA</td>\n      <td>331245770</td>\n      <td>5530028</td>\n      <td>223177.000</td>\n      <td>172608</td>\n      <td>4847.000</td>\n      <td>2904130</td>\n      <td>148023.000</td>\n      <td>2453290</td>\n      <td>17186</td>\n      <td>16695</td>\n      <td>521.000</td>\n      <td>70228171</td>\n      <td>212012</td>\n    </tr>\n    <tr>\n      <th>4</th>\n      <td>2020-08-17</td>\n      <td>20:00:00</td>\n      <td>NaN</td>\n      <td>1</td>\n      <td>USA</td>\n      <td>331251064</td>\n      <td>5579686</td>\n      <td>49658.000</td>\n      <td>173258</td>\n      <td>650.000</td>\n      <td>2928179</td>\n      <td>24049.000</td>\n      <td>2478249</td>\n      <td>17237</td>\n      <td>16844</td>\n      <td>523.000</td>\n      <td>71149490</td>\n      <td>214790</td>\n    </tr>\n  </tbody>\n</table>\n</div>"
     },
     "execution_count": 6,
     "metadata": {},
     "output_type": "execute_result"
    }
   ],
   "source": [
    "print('The first five rows of the data:')\n",
    "df.head(5)"
   ],
   "metadata": {
    "collapsed": false,
    "pycharm": {
     "name": "#%%\n"
    }
   }
  },
  {
   "cell_type": "code",
   "execution_count": 7,
   "outputs": [
    {
     "name": "stdout",
     "output_type": "stream",
     "text": [
      "The last five rows of the data.:\n"
     ]
    },
    {
     "data": {
      "text/plain": "    scrap_date scrap_time update_time_GMT  Country_id Country  Population  \\\n103 2020-11-28   23:00:00        20:46:00           1     USA   331796277   \n104 2020-11-29   23:00:00        20:51:00           1     USA   331801570   \n105 2020-11-30   23:00:00        20:57:00           1     USA   331806864   \n106 2020-12-01   23:00:00        20:55:00           1     USA   331812157   \n107 2020-12-02   23:00:00        20:58:00           1     USA   331817450   \n\n     TotalCases   NewCases  TotalDeaths  NewDeaths  TotalRecovered  \\\n103    13577266 191090.000       272076   1412.000         8020995   \n104    13701880 124614.000       272836    760.000         8085224   \n105    13871441 169561.000       273924   1088.000         8181759   \n106    14046293 174852.000       276154   2230.000         8287295   \n107    14254018 207725.000       279153   2999.000         8418498   \n\n     NewRecovered  ActiveCases  SeriousCritical  Tot_Cases_1Mpop  \\\n103    128948.000      5284195            24467            40920   \n104     64229.000      5343820            24642            41295   \n105     96535.000      5415758            24814            41806   \n106    105536.000      5482844            25313            42332   \n107    131203.000      5556367            25789            42957   \n\n     Deaths_1Mpop  TotalTests  Tests_1Mpop  \n103       820.000   190713529       574791  \n104       822.000   191826213       578135  \n105       826.000   193475840       583098  \n106       832.000   195816547       590143  \n107       841.000   197214414       594346  ",
      "text/html": "<div>\n<style scoped>\n    .dataframe tbody tr th:only-of-type {\n        vertical-align: middle;\n    }\n\n    .dataframe tbody tr th {\n        vertical-align: top;\n    }\n\n    .dataframe thead th {\n        text-align: right;\n    }\n</style>\n<table border=\"1\" class=\"dataframe\">\n  <thead>\n    <tr style=\"text-align: right;\">\n      <th></th>\n      <th>scrap_date</th>\n      <th>scrap_time</th>\n      <th>update_time_GMT</th>\n      <th>Country_id</th>\n      <th>Country</th>\n      <th>Population</th>\n      <th>TotalCases</th>\n      <th>NewCases</th>\n      <th>TotalDeaths</th>\n      <th>NewDeaths</th>\n      <th>TotalRecovered</th>\n      <th>NewRecovered</th>\n      <th>ActiveCases</th>\n      <th>SeriousCritical</th>\n      <th>Tot_Cases_1Mpop</th>\n      <th>Deaths_1Mpop</th>\n      <th>TotalTests</th>\n      <th>Tests_1Mpop</th>\n    </tr>\n  </thead>\n  <tbody>\n    <tr>\n      <th>103</th>\n      <td>2020-11-28</td>\n      <td>23:00:00</td>\n      <td>20:46:00</td>\n      <td>1</td>\n      <td>USA</td>\n      <td>331796277</td>\n      <td>13577266</td>\n      <td>191090.000</td>\n      <td>272076</td>\n      <td>1412.000</td>\n      <td>8020995</td>\n      <td>128948.000</td>\n      <td>5284195</td>\n      <td>24467</td>\n      <td>40920</td>\n      <td>820.000</td>\n      <td>190713529</td>\n      <td>574791</td>\n    </tr>\n    <tr>\n      <th>104</th>\n      <td>2020-11-29</td>\n      <td>23:00:00</td>\n      <td>20:51:00</td>\n      <td>1</td>\n      <td>USA</td>\n      <td>331801570</td>\n      <td>13701880</td>\n      <td>124614.000</td>\n      <td>272836</td>\n      <td>760.000</td>\n      <td>8085224</td>\n      <td>64229.000</td>\n      <td>5343820</td>\n      <td>24642</td>\n      <td>41295</td>\n      <td>822.000</td>\n      <td>191826213</td>\n      <td>578135</td>\n    </tr>\n    <tr>\n      <th>105</th>\n      <td>2020-11-30</td>\n      <td>23:00:00</td>\n      <td>20:57:00</td>\n      <td>1</td>\n      <td>USA</td>\n      <td>331806864</td>\n      <td>13871441</td>\n      <td>169561.000</td>\n      <td>273924</td>\n      <td>1088.000</td>\n      <td>8181759</td>\n      <td>96535.000</td>\n      <td>5415758</td>\n      <td>24814</td>\n      <td>41806</td>\n      <td>826.000</td>\n      <td>193475840</td>\n      <td>583098</td>\n    </tr>\n    <tr>\n      <th>106</th>\n      <td>2020-12-01</td>\n      <td>23:00:00</td>\n      <td>20:55:00</td>\n      <td>1</td>\n      <td>USA</td>\n      <td>331812157</td>\n      <td>14046293</td>\n      <td>174852.000</td>\n      <td>276154</td>\n      <td>2230.000</td>\n      <td>8287295</td>\n      <td>105536.000</td>\n      <td>5482844</td>\n      <td>25313</td>\n      <td>42332</td>\n      <td>832.000</td>\n      <td>195816547</td>\n      <td>590143</td>\n    </tr>\n    <tr>\n      <th>107</th>\n      <td>2020-12-02</td>\n      <td>23:00:00</td>\n      <td>20:58:00</td>\n      <td>1</td>\n      <td>USA</td>\n      <td>331817450</td>\n      <td>14254018</td>\n      <td>207725.000</td>\n      <td>279153</td>\n      <td>2999.000</td>\n      <td>8418498</td>\n      <td>131203.000</td>\n      <td>5556367</td>\n      <td>25789</td>\n      <td>42957</td>\n      <td>841.000</td>\n      <td>197214414</td>\n      <td>594346</td>\n    </tr>\n  </tbody>\n</table>\n</div>"
     },
     "execution_count": 7,
     "metadata": {},
     "output_type": "execute_result"
    }
   ],
   "source": [
    "print('The last five rows of the data.:')\n",
    "df.tail(5)\n"
   ],
   "metadata": {
    "collapsed": false,
    "pycharm": {
     "name": "#%%\n"
    }
   }
  },
  {
   "cell_type": "markdown",
   "source": [
    "### Part Two - Data Visualization\n",
    "#### Cumulative data"
   ],
   "metadata": {
    "collapsed": false,
    "pycharm": {
     "name": "#%% md\n"
    }
   }
  },
  {
   "cell_type": "code",
   "execution_count": 8,
   "outputs": [
    {
     "ename": "ValueError",
     "evalue": "Invalid property specified for object of type plotly.graph_objs.layout.Updatemenu: 'template'\n\n    Valid properties:\n        active\n            Determines which button (by index starting from 0) is\n            considered active.\n        bgcolor\n            Sets the background color of the update menu buttons.\n        bordercolor\n            Sets the color of the border enclosing the update menu.\n        borderwidth\n            Sets the width (in px) of the border enclosing the\n            update menu.\n        buttons\n            A tuple of\n            :class:`plotly.graph_objects.layout.updatemenu.Button`\n            instances or dicts with compatible properties\n        buttondefaults\n            When used in a template (as\n            layout.template.layout.updatemenu.buttondefaults), sets\n            the default property values to use for elements of\n            layout.updatemenu.buttons\n        direction\n            Determines the direction in which the buttons are laid\n            out, whether in a dropdown menu or a row/column of\n            buttons. For `left` and `up`, the buttons will still\n            appear in left-to-right or top-to-bottom order\n            respectively.\n        font\n            Sets the font of the update menu button text.\n        name\n            When used in a template, named items are created in the\n            output figure in addition to any items the figure\n            already has in this array. You can modify these items\n            in the output figure by making your own item with\n            `templateitemname` matching this `name` alongside your\n            modifications (including `visible: false` or `enabled:\n            false` to hide it). Has no effect outside of a\n            template.\n        pad\n            Sets the padding around the buttons or dropdown menu.\n        showactive\n            Highlights active dropdown item or active button if\n            true.\n        templateitemname\n            Used to refer to a named item in this array in the\n            template. Named items from the template will be created\n            even without a matching item in the input figure, but\n            you can modify one by making an item with\n            `templateitemname` matching its `name`, alongside your\n            modifications (including `visible: false` or `enabled:\n            false` to hide it). If there is no template or no\n            matching item, this item will be hidden unless you\n            explicitly show it with `visible: true`.\n        type\n            Determines whether the buttons are accessible via a\n            dropdown menu or whether the buttons are stacked\n            horizontally or vertically\n        visible\n            Determines whether or not the update menu is visible.\n        x\n            Sets the x position (in normalized coordinates) of the\n            update menu.\n        xanchor\n            Sets the update menu's horizontal position anchor. This\n            anchor binds the `x` position to the \"left\", \"center\"\n            or \"right\" of the range selector.\n        y\n            Sets the y position (in normalized coordinates) of the\n            update menu.\n        yanchor\n            Sets the update menu's vertical position anchor This\n            anchor binds the `y` position to the \"top\", \"middle\" or\n            \"bottom\" of the range selector.\n        ",
     "output_type": "error",
     "traceback": [
      "\u001B[1;31m---------------------------------------------------------------------------\u001B[0m",
      "\u001B[1;31mValueError\u001B[0m                                Traceback (most recent call last)",
      "\u001B[1;32m<ipython-input-8-ca450ceb54d1>\u001B[0m in \u001B[0;36m<module>\u001B[1;34m\u001B[0m\n\u001B[1;32m----> 1\u001B[1;33m \u001B[0mfig\u001B[0m \u001B[1;33m=\u001B[0m \u001B[0mcountry\u001B[0m\u001B[1;33m.\u001B[0m\u001B[0mlinear_plot\u001B[0m\u001B[1;33m(\u001B[0m\u001B[1;33m[\u001B[0m\u001B[1;34m'TotalCases'\u001B[0m\u001B[1;33m,\u001B[0m \u001B[1;34m'TotalDeaths'\u001B[0m\u001B[1;33m,\u001B[0m\u001B[1;34m'TotalRecovered'\u001B[0m\u001B[1;33m,\u001B[0m\u001B[1;34m'ActiveCases'\u001B[0m\u001B[1;33m]\u001B[0m\u001B[1;33m,\u001B[0m\u001B[0msave\u001B[0m \u001B[1;33m=\u001B[0m \u001B[1;32mTrue\u001B[0m\u001B[1;33m)\u001B[0m\u001B[1;33m\u001B[0m\u001B[1;33m\u001B[0m\u001B[0m\n\u001B[0m\u001B[0;32m      2\u001B[0m \u001B[1;31m# fig.show()\u001B[0m\u001B[1;33m\u001B[0m\u001B[1;33m\u001B[0m\u001B[1;33m\u001B[0m\u001B[0m\n\u001B[0;32m      3\u001B[0m \u001B[0miplot\u001B[0m\u001B[1;33m(\u001B[0m\u001B[0mfig\u001B[0m\u001B[1;33m)\u001B[0m\u001B[1;33m\u001B[0m\u001B[1;33m\u001B[0m\u001B[0m\n",
      "\u001B[1;32m~\\PycharmProjects\\Covid19\\analysis\\classes.py\u001B[0m in \u001B[0;36mlinear_plot\u001B[1;34m(self, y_cols, save)\u001B[0m\n\u001B[0;32m    251\u001B[0m   \u001B[1;34m\"style='font-size:12px;'>Creation date {}</span>\"\u001B[0m\u001B[1;33m.\u001B[0m\u001B[0mformat\u001B[0m\u001B[1;33m(\u001B[0m \u001B[0mdate\u001B[0m\u001B[1;33m.\u001B[0m\u001B[0mtoday\u001B[0m\u001B[1;33m(\u001B[0m\u001B[1;33m)\u001B[0m\u001B[1;33m)\u001B[0m\u001B[1;33m,\u001B[0m\u001B[1;33m\u001B[0m\u001B[1;33m\u001B[0m\u001B[0m\n\u001B[0;32m    252\u001B[0m \t\t              labels={'scrap_date': 'Date'}, color='variable')\n\u001B[1;32m--> 253\u001B[1;33m \t\tfig.update_layout(\n\u001B[0m\u001B[0;32m    254\u001B[0m                                 \u001B[0mhovermode\u001B[0m \u001B[1;33m=\u001B[0m \u001B[1;34m'closest'\u001B[0m\u001B[1;33m,\u001B[0m\u001B[1;33m\u001B[0m\u001B[1;33m\u001B[0m\u001B[0m\n\u001B[0;32m    255\u001B[0m \t\t\t\tupdatemenus = [\n",
      "\u001B[1;32mc:\\users\\talle\\appdata\\local\\programs\\python\\python38-32\\lib\\site-packages\\plotly\\basedatatypes.py\u001B[0m in \u001B[0;36mupdate_layout\u001B[1;34m(self, dict1, overwrite, **kwargs)\u001B[0m\n\u001B[0;32m   1106\u001B[0m             \u001B[0mThe\u001B[0m \u001B[0mFigure\u001B[0m \u001B[0mobject\u001B[0m \u001B[0mthat\u001B[0m \u001B[0mthe\u001B[0m \u001B[0mupdate_layout\u001B[0m \u001B[0mmethod\u001B[0m \u001B[0mwas\u001B[0m \u001B[0mcalled\u001B[0m \u001B[0mon\u001B[0m\u001B[1;33m\u001B[0m\u001B[1;33m\u001B[0m\u001B[0m\n\u001B[0;32m   1107\u001B[0m         \"\"\"\n\u001B[1;32m-> 1108\u001B[1;33m         \u001B[0mself\u001B[0m\u001B[1;33m.\u001B[0m\u001B[0mlayout\u001B[0m\u001B[1;33m.\u001B[0m\u001B[0mupdate\u001B[0m\u001B[1;33m(\u001B[0m\u001B[0mdict1\u001B[0m\u001B[1;33m,\u001B[0m \u001B[0moverwrite\u001B[0m\u001B[1;33m=\u001B[0m\u001B[0moverwrite\u001B[0m\u001B[1;33m,\u001B[0m \u001B[1;33m**\u001B[0m\u001B[0mkwargs\u001B[0m\u001B[1;33m)\u001B[0m\u001B[1;33m\u001B[0m\u001B[1;33m\u001B[0m\u001B[0m\n\u001B[0m\u001B[0;32m   1109\u001B[0m         \u001B[1;32mreturn\u001B[0m \u001B[0mself\u001B[0m\u001B[1;33m\u001B[0m\u001B[1;33m\u001B[0m\u001B[0m\n\u001B[0;32m   1110\u001B[0m \u001B[1;33m\u001B[0m\u001B[0m\n",
      "\u001B[1;32mc:\\users\\talle\\appdata\\local\\programs\\python\\python38-32\\lib\\site-packages\\plotly\\basedatatypes.py\u001B[0m in \u001B[0;36mupdate\u001B[1;34m(self, dict1, overwrite, **kwargs)\u001B[0m\n\u001B[0;32m   4769\u001B[0m             \u001B[1;32mwith\u001B[0m \u001B[0mself\u001B[0m\u001B[1;33m.\u001B[0m\u001B[0mfigure\u001B[0m\u001B[1;33m.\u001B[0m\u001B[0mbatch_update\u001B[0m\u001B[1;33m(\u001B[0m\u001B[1;33m)\u001B[0m\u001B[1;33m:\u001B[0m\u001B[1;33m\u001B[0m\u001B[1;33m\u001B[0m\u001B[0m\n\u001B[0;32m   4770\u001B[0m                 \u001B[0mBaseFigure\u001B[0m\u001B[1;33m.\u001B[0m\u001B[0m_perform_update\u001B[0m\u001B[1;33m(\u001B[0m\u001B[0mself\u001B[0m\u001B[1;33m,\u001B[0m \u001B[0mdict1\u001B[0m\u001B[1;33m,\u001B[0m \u001B[0moverwrite\u001B[0m\u001B[1;33m=\u001B[0m\u001B[0moverwrite\u001B[0m\u001B[1;33m)\u001B[0m\u001B[1;33m\u001B[0m\u001B[1;33m\u001B[0m\u001B[0m\n\u001B[1;32m-> 4771\u001B[1;33m                 \u001B[0mBaseFigure\u001B[0m\u001B[1;33m.\u001B[0m\u001B[0m_perform_update\u001B[0m\u001B[1;33m(\u001B[0m\u001B[0mself\u001B[0m\u001B[1;33m,\u001B[0m \u001B[0mkwargs\u001B[0m\u001B[1;33m,\u001B[0m \u001B[0moverwrite\u001B[0m\u001B[1;33m=\u001B[0m\u001B[0moverwrite\u001B[0m\u001B[1;33m)\u001B[0m\u001B[1;33m\u001B[0m\u001B[1;33m\u001B[0m\u001B[0m\n\u001B[0m\u001B[0;32m   4772\u001B[0m         \u001B[1;32melse\u001B[0m\u001B[1;33m:\u001B[0m\u001B[1;33m\u001B[0m\u001B[1;33m\u001B[0m\u001B[0m\n\u001B[0;32m   4773\u001B[0m             \u001B[0mBaseFigure\u001B[0m\u001B[1;33m.\u001B[0m\u001B[0m_perform_update\u001B[0m\u001B[1;33m(\u001B[0m\u001B[0mself\u001B[0m\u001B[1;33m,\u001B[0m \u001B[0mdict1\u001B[0m\u001B[1;33m,\u001B[0m \u001B[0moverwrite\u001B[0m\u001B[1;33m=\u001B[0m\u001B[0moverwrite\u001B[0m\u001B[1;33m)\u001B[0m\u001B[1;33m\u001B[0m\u001B[1;33m\u001B[0m\u001B[0m\n",
      "\u001B[1;32mc:\\users\\talle\\appdata\\local\\programs\\python\\python38-32\\lib\\site-packages\\plotly\\basedatatypes.py\u001B[0m in \u001B[0;36m_perform_update\u001B[1;34m(plotly_obj, update_obj, overwrite)\u001B[0m\n\u001B[0;32m   3652\u001B[0m                         \u001B[1;31m# plotly_obj is an empty or uninitialized list for key\u001B[0m\u001B[1;33m\u001B[0m\u001B[1;33m\u001B[0m\u001B[1;33m\u001B[0m\u001B[0m\n\u001B[0;32m   3653\u001B[0m                         \u001B[1;31m# In this case we accept val as is\u001B[0m\u001B[1;33m\u001B[0m\u001B[1;33m\u001B[0m\u001B[1;33m\u001B[0m\u001B[0m\n\u001B[1;32m-> 3654\u001B[1;33m                         \u001B[0mplotly_obj\u001B[0m\u001B[1;33m[\u001B[0m\u001B[0mkey\u001B[0m\u001B[1;33m]\u001B[0m \u001B[1;33m=\u001B[0m \u001B[0mval\u001B[0m\u001B[1;33m\u001B[0m\u001B[1;33m\u001B[0m\u001B[0m\n\u001B[0m\u001B[0;32m   3655\u001B[0m                 \u001B[1;32melse\u001B[0m\u001B[1;33m:\u001B[0m\u001B[1;33m\u001B[0m\u001B[1;33m\u001B[0m\u001B[0m\n\u001B[0;32m   3656\u001B[0m                     \u001B[1;31m# Assign non-compound value\u001B[0m\u001B[1;33m\u001B[0m\u001B[1;33m\u001B[0m\u001B[1;33m\u001B[0m\u001B[0m\n",
      "\u001B[1;32mc:\\users\\talle\\appdata\\local\\programs\\python\\python38-32\\lib\\site-packages\\plotly\\basedatatypes.py\u001B[0m in \u001B[0;36m__setitem__\u001B[1;34m(self, prop, value)\u001B[0m\n\u001B[0;32m   5508\u001B[0m         \u001B[1;32mif\u001B[0m \u001B[0mmatch\u001B[0m \u001B[1;32mis\u001B[0m \u001B[1;32mNone\u001B[0m\u001B[1;33m:\u001B[0m\u001B[1;33m\u001B[0m\u001B[1;33m\u001B[0m\u001B[0m\n\u001B[0;32m   5509\u001B[0m             \u001B[1;31m# Set as ordinary property\u001B[0m\u001B[1;33m\u001B[0m\u001B[1;33m\u001B[0m\u001B[1;33m\u001B[0m\u001B[0m\n\u001B[1;32m-> 5510\u001B[1;33m             \u001B[0msuper\u001B[0m\u001B[1;33m(\u001B[0m\u001B[0mBaseLayoutHierarchyType\u001B[0m\u001B[1;33m,\u001B[0m \u001B[0mself\u001B[0m\u001B[1;33m)\u001B[0m\u001B[1;33m.\u001B[0m\u001B[0m__setitem__\u001B[0m\u001B[1;33m(\u001B[0m\u001B[0mprop\u001B[0m\u001B[1;33m,\u001B[0m \u001B[0mvalue\u001B[0m\u001B[1;33m)\u001B[0m\u001B[1;33m\u001B[0m\u001B[1;33m\u001B[0m\u001B[0m\n\u001B[0m\u001B[0;32m   5511\u001B[0m         \u001B[1;32melse\u001B[0m\u001B[1;33m:\u001B[0m\u001B[1;33m\u001B[0m\u001B[1;33m\u001B[0m\u001B[0m\n\u001B[0;32m   5512\u001B[0m             \u001B[1;31m# Set as subplotid property\u001B[0m\u001B[1;33m\u001B[0m\u001B[1;33m\u001B[0m\u001B[1;33m\u001B[0m\u001B[0m\n",
      "\u001B[1;32mc:\\users\\talle\\appdata\\local\\programs\\python\\python38-32\\lib\\site-packages\\plotly\\basedatatypes.py\u001B[0m in \u001B[0;36m__setitem__\u001B[1;34m(self, prop, value)\u001B[0m\n\u001B[0;32m   4528\u001B[0m                 \u001B[1;31m# ### Handle compound array property ###\u001B[0m\u001B[1;33m\u001B[0m\u001B[1;33m\u001B[0m\u001B[1;33m\u001B[0m\u001B[0m\n\u001B[0;32m   4529\u001B[0m                 \u001B[1;32melif\u001B[0m \u001B[0misinstance\u001B[0m\u001B[1;33m(\u001B[0m\u001B[0mvalidator\u001B[0m\u001B[1;33m,\u001B[0m \u001B[1;33m(\u001B[0m\u001B[0mCompoundArrayValidator\u001B[0m\u001B[1;33m,\u001B[0m \u001B[0mBaseDataValidator\u001B[0m\u001B[1;33m)\u001B[0m\u001B[1;33m)\u001B[0m\u001B[1;33m:\u001B[0m\u001B[1;33m\u001B[0m\u001B[1;33m\u001B[0m\u001B[0m\n\u001B[1;32m-> 4530\u001B[1;33m                     \u001B[0mself\u001B[0m\u001B[1;33m.\u001B[0m\u001B[0m_set_array_prop\u001B[0m\u001B[1;33m(\u001B[0m\u001B[0mprop\u001B[0m\u001B[1;33m,\u001B[0m \u001B[0mvalue\u001B[0m\u001B[1;33m)\u001B[0m\u001B[1;33m\u001B[0m\u001B[1;33m\u001B[0m\u001B[0m\n\u001B[0m\u001B[0;32m   4531\u001B[0m \u001B[1;33m\u001B[0m\u001B[0m\n\u001B[0;32m   4532\u001B[0m                 \u001B[1;31m# ### Handle simple property ###\u001B[0m\u001B[1;33m\u001B[0m\u001B[1;33m\u001B[0m\u001B[1;33m\u001B[0m\u001B[0m\n",
      "\u001B[1;32mc:\\users\\talle\\appdata\\local\\programs\\python\\python38-32\\lib\\site-packages\\plotly\\basedatatypes.py\u001B[0m in \u001B[0;36m_set_array_prop\u001B[1;34m(self, prop, val)\u001B[0m\n\u001B[0;32m   4983\u001B[0m         \u001B[1;31m# ------------\u001B[0m\u001B[1;33m\u001B[0m\u001B[1;33m\u001B[0m\u001B[1;33m\u001B[0m\u001B[0m\n\u001B[0;32m   4984\u001B[0m         \u001B[0mvalidator\u001B[0m \u001B[1;33m=\u001B[0m \u001B[0mself\u001B[0m\u001B[1;33m.\u001B[0m\u001B[0m_get_validator\u001B[0m\u001B[1;33m(\u001B[0m\u001B[0mprop\u001B[0m\u001B[1;33m)\u001B[0m\u001B[1;33m\u001B[0m\u001B[1;33m\u001B[0m\u001B[0m\n\u001B[1;32m-> 4985\u001B[1;33m         \u001B[0mval\u001B[0m \u001B[1;33m=\u001B[0m \u001B[0mvalidator\u001B[0m\u001B[1;33m.\u001B[0m\u001B[0mvalidate_coerce\u001B[0m\u001B[1;33m(\u001B[0m\u001B[0mval\u001B[0m\u001B[1;33m,\u001B[0m \u001B[0mskip_invalid\u001B[0m\u001B[1;33m=\u001B[0m\u001B[0mself\u001B[0m\u001B[1;33m.\u001B[0m\u001B[0m_skip_invalid\u001B[0m\u001B[1;33m)\u001B[0m\u001B[1;33m\u001B[0m\u001B[1;33m\u001B[0m\u001B[0m\n\u001B[0m\u001B[0;32m   4986\u001B[0m \u001B[1;33m\u001B[0m\u001B[0m\n\u001B[0;32m   4987\u001B[0m         \u001B[1;31m# Save deep copies of current and new states\u001B[0m\u001B[1;33m\u001B[0m\u001B[1;33m\u001B[0m\u001B[1;33m\u001B[0m\u001B[0m\n",
      "\u001B[1;32mc:\\users\\talle\\appdata\\local\\programs\\python\\python38-32\\lib\\site-packages\\_plotly_utils\\basevalidators.py\u001B[0m in \u001B[0;36mvalidate_coerce\u001B[1;34m(self, v, skip_invalid)\u001B[0m\n\u001B[0;32m   2538\u001B[0m                     \u001B[0mres\u001B[0m\u001B[1;33m.\u001B[0m\u001B[0mappend\u001B[0m\u001B[1;33m(\u001B[0m\u001B[0mself\u001B[0m\u001B[1;33m.\u001B[0m\u001B[0mdata_class\u001B[0m\u001B[1;33m(\u001B[0m\u001B[0mv_el\u001B[0m\u001B[1;33m)\u001B[0m\u001B[1;33m)\u001B[0m\u001B[1;33m\u001B[0m\u001B[1;33m\u001B[0m\u001B[0m\n\u001B[0;32m   2539\u001B[0m                 \u001B[1;32melif\u001B[0m \u001B[0misinstance\u001B[0m\u001B[1;33m(\u001B[0m\u001B[0mv_el\u001B[0m\u001B[1;33m,\u001B[0m \u001B[0mdict\u001B[0m\u001B[1;33m)\u001B[0m\u001B[1;33m:\u001B[0m\u001B[1;33m\u001B[0m\u001B[1;33m\u001B[0m\u001B[0m\n\u001B[1;32m-> 2540\u001B[1;33m                     \u001B[0mres\u001B[0m\u001B[1;33m.\u001B[0m\u001B[0mappend\u001B[0m\u001B[1;33m(\u001B[0m\u001B[0mself\u001B[0m\u001B[1;33m.\u001B[0m\u001B[0mdata_class\u001B[0m\u001B[1;33m(\u001B[0m\u001B[0mv_el\u001B[0m\u001B[1;33m,\u001B[0m \u001B[0mskip_invalid\u001B[0m\u001B[1;33m=\u001B[0m\u001B[0mskip_invalid\u001B[0m\u001B[1;33m)\u001B[0m\u001B[1;33m)\u001B[0m\u001B[1;33m\u001B[0m\u001B[1;33m\u001B[0m\u001B[0m\n\u001B[0m\u001B[0;32m   2541\u001B[0m                 \u001B[1;32melse\u001B[0m\u001B[1;33m:\u001B[0m\u001B[1;33m\u001B[0m\u001B[1;33m\u001B[0m\u001B[0m\n\u001B[0;32m   2542\u001B[0m                     \u001B[1;32mif\u001B[0m \u001B[0mskip_invalid\u001B[0m\u001B[1;33m:\u001B[0m\u001B[1;33m\u001B[0m\u001B[1;33m\u001B[0m\u001B[0m\n",
      "\u001B[1;32mc:\\users\\talle\\appdata\\local\\programs\\python\\python38-32\\lib\\site-packages\\plotly\\graph_objs\\layout\\_updatemenu.py\u001B[0m in \u001B[0;36m__init__\u001B[1;34m(self, arg, active, bgcolor, bordercolor, borderwidth, buttons, buttondefaults, direction, font, name, pad, showactive, templateitemname, type, visible, x, xanchor, y, yanchor, **kwargs)\u001B[0m\n\u001B[0;32m    899\u001B[0m         \u001B[1;31m# Process unknown kwargs\u001B[0m\u001B[1;33m\u001B[0m\u001B[1;33m\u001B[0m\u001B[1;33m\u001B[0m\u001B[0m\n\u001B[0;32m    900\u001B[0m         \u001B[1;31m# ----------------------\u001B[0m\u001B[1;33m\u001B[0m\u001B[1;33m\u001B[0m\u001B[1;33m\u001B[0m\u001B[0m\n\u001B[1;32m--> 901\u001B[1;33m         \u001B[0mself\u001B[0m\u001B[1;33m.\u001B[0m\u001B[0m_process_kwargs\u001B[0m\u001B[1;33m(\u001B[0m\u001B[1;33m**\u001B[0m\u001B[0mdict\u001B[0m\u001B[1;33m(\u001B[0m\u001B[0marg\u001B[0m\u001B[1;33m,\u001B[0m \u001B[1;33m**\u001B[0m\u001B[0mkwargs\u001B[0m\u001B[1;33m)\u001B[0m\u001B[1;33m)\u001B[0m\u001B[1;33m\u001B[0m\u001B[1;33m\u001B[0m\u001B[0m\n\u001B[0m\u001B[0;32m    902\u001B[0m \u001B[1;33m\u001B[0m\u001B[0m\n\u001B[0;32m    903\u001B[0m         \u001B[1;31m# Reset skip_invalid\u001B[0m\u001B[1;33m\u001B[0m\u001B[1;33m\u001B[0m\u001B[1;33m\u001B[0m\u001B[0m\n",
      "\u001B[1;32mc:\\users\\talle\\appdata\\local\\programs\\python\\python38-32\\lib\\site-packages\\plotly\\basedatatypes.py\u001B[0m in \u001B[0;36m_process_kwargs\u001B[1;34m(self, **kwargs)\u001B[0m\n\u001B[0;32m   4062\u001B[0m \u001B[1;33m\u001B[0m\u001B[0m\n\u001B[0;32m   4063\u001B[0m         \u001B[1;32mif\u001B[0m \u001B[0minvalid_kwargs\u001B[0m \u001B[1;32mand\u001B[0m \u001B[1;32mnot\u001B[0m \u001B[0mself\u001B[0m\u001B[1;33m.\u001B[0m\u001B[0m_skip_invalid\u001B[0m\u001B[1;33m:\u001B[0m\u001B[1;33m\u001B[0m\u001B[1;33m\u001B[0m\u001B[0m\n\u001B[1;32m-> 4064\u001B[1;33m             \u001B[0mself\u001B[0m\u001B[1;33m.\u001B[0m\u001B[0m_raise_on_invalid_property_error\u001B[0m\u001B[1;33m(\u001B[0m\u001B[1;33m*\u001B[0m\u001B[0minvalid_kwargs\u001B[0m\u001B[1;33m.\u001B[0m\u001B[0mkeys\u001B[0m\u001B[1;33m(\u001B[0m\u001B[1;33m)\u001B[0m\u001B[1;33m)\u001B[0m\u001B[1;33m\u001B[0m\u001B[1;33m\u001B[0m\u001B[0m\n\u001B[0m\u001B[0;32m   4065\u001B[0m \u001B[1;33m\u001B[0m\u001B[0m\n\u001B[0;32m   4066\u001B[0m     \u001B[1;33m@\u001B[0m\u001B[0mproperty\u001B[0m\u001B[1;33m\u001B[0m\u001B[1;33m\u001B[0m\u001B[0m\n",
      "\u001B[1;32mc:\\users\\talle\\appdata\\local\\programs\\python\\python38-32\\lib\\site-packages\\plotly\\basedatatypes.py\u001B[0m in \u001B[0;36m_raise_on_invalid_property_error\u001B[1;34m(self, *args)\u001B[0m\n\u001B[0;32m   4730\u001B[0m                 \u001B[0mfull_obj_name\u001B[0m \u001B[1;33m=\u001B[0m \u001B[0mmodule_root\u001B[0m \u001B[1;33m+\u001B[0m \u001B[0mself\u001B[0m\u001B[1;33m.\u001B[0m\u001B[0m__class__\u001B[0m\u001B[1;33m.\u001B[0m\u001B[0m__name__\u001B[0m\u001B[1;33m\u001B[0m\u001B[1;33m\u001B[0m\u001B[0m\n\u001B[0;32m   4731\u001B[0m \u001B[1;33m\u001B[0m\u001B[0m\n\u001B[1;32m-> 4732\u001B[1;33m             raise ValueError(\n\u001B[0m\u001B[0;32m   4733\u001B[0m                 \u001B[1;34m\"Invalid {prop_str} specified for object of type \"\u001B[0m\u001B[1;33m\u001B[0m\u001B[1;33m\u001B[0m\u001B[0m\n\u001B[0;32m   4734\u001B[0m                 \u001B[1;34m\"{full_obj_name}: {invalid_str}\\n\\n\"\u001B[0m\u001B[1;33m\u001B[0m\u001B[1;33m\u001B[0m\u001B[0m\n",
      "\u001B[1;31mValueError\u001B[0m: Invalid property specified for object of type plotly.graph_objs.layout.Updatemenu: 'template'\n\n    Valid properties:\n        active\n            Determines which button (by index starting from 0) is\n            considered active.\n        bgcolor\n            Sets the background color of the update menu buttons.\n        bordercolor\n            Sets the color of the border enclosing the update menu.\n        borderwidth\n            Sets the width (in px) of the border enclosing the\n            update menu.\n        buttons\n            A tuple of\n            :class:`plotly.graph_objects.layout.updatemenu.Button`\n            instances or dicts with compatible properties\n        buttondefaults\n            When used in a template (as\n            layout.template.layout.updatemenu.buttondefaults), sets\n            the default property values to use for elements of\n            layout.updatemenu.buttons\n        direction\n            Determines the direction in which the buttons are laid\n            out, whether in a dropdown menu or a row/column of\n            buttons. For `left` and `up`, the buttons will still\n            appear in left-to-right or top-to-bottom order\n            respectively.\n        font\n            Sets the font of the update menu button text.\n        name\n            When used in a template, named items are created in the\n            output figure in addition to any items the figure\n            already has in this array. You can modify these items\n            in the output figure by making your own item with\n            `templateitemname` matching this `name` alongside your\n            modifications (including `visible: false` or `enabled:\n            false` to hide it). Has no effect outside of a\n            template.\n        pad\n            Sets the padding around the buttons or dropdown menu.\n        showactive\n            Highlights active dropdown item or active button if\n            true.\n        templateitemname\n            Used to refer to a named item in this array in the\n            template. Named items from the template will be created\n            even without a matching item in the input figure, but\n            you can modify one by making an item with\n            `templateitemname` matching its `name`, alongside your\n            modifications (including `visible: false` or `enabled:\n            false` to hide it). If there is no template or no\n            matching item, this item will be hidden unless you\n            explicitly show it with `visible: true`.\n        type\n            Determines whether the buttons are accessible via a\n            dropdown menu or whether the buttons are stacked\n            horizontally or vertically\n        visible\n            Determines whether or not the update menu is visible.\n        x\n            Sets the x position (in normalized coordinates) of the\n            update menu.\n        xanchor\n            Sets the update menu's horizontal position anchor. This\n            anchor binds the `x` position to the \"left\", \"center\"\n            or \"right\" of the range selector.\n        y\n            Sets the y position (in normalized coordinates) of the\n            update menu.\n        yanchor\n            Sets the update menu's vertical position anchor This\n            anchor binds the `y` position to the \"top\", \"middle\" or\n            \"bottom\" of the range selector.\n        "
     ]
    }
   ],
   "source": [
    "fig = country.linear_plot(['TotalCases', 'TotalDeaths','TotalRecovered','ActiveCases'],save = True)\n",
    "# fig.show()\n",
    "iplot(fig)"
   ],
   "metadata": {
    "collapsed": false,
    "pycharm": {
     "name": "#%%\n"
    }
   }
  },
  {
   "cell_type": "markdown",
   "source": [
    "#### Three months measures"
   ],
   "metadata": {
    "collapsed": false
   }
  },
  {
   "cell_type": "code",
   "execution_count": null,
   "outputs": [],
   "source": [
    "months_info = country.three_months_info()\n",
    "months_info"
   ],
   "metadata": {
    "collapsed": false,
    "pycharm": {
     "name": "#%%\n"
    }
   }
  },
  {
   "cell_type": "code",
   "execution_count": null,
   "outputs": [],
   "source": [
    "monthName = datetime(1900, date.today().month, 1).strftime('%B')\n",
    "for month in months_info['Month'].tolist():\n",
    "    month_num = datetime.strptime(month[:3], \"%b\").month\n",
    "    country.monthly_plot(['ActiveCases','NewCases','NewRecovered','NewDeaths'],month_num,date.today().year,save = True)"
   ],
   "metadata": {
    "collapsed": false,
    "pycharm": {
     "name": "#%%\n"
    }
   }
  },
  {
   "cell_type": "markdown",
   "source": [
    "#### Daily increases in deaths, recoveries, active cases,new cases."
   ],
   "metadata": {
    "collapsed": false,
    "pycharm": {
     "name": "#%% md\n"
    }
   }
  },
  {
   "cell_type": "code",
   "execution_count": null,
   "outputs": [],
   "source": [
    "activeCases_rate = df['ActiveCases'].pct_change()\n",
    "country.daily_increase('ActiveCases', save = True)\n",
    "print('Answer:')\n",
    "pd.DataFrame(activeCases_rate.tail(5))"
   ],
   "metadata": {
    "collapsed": false,
    "pycharm": {
     "name": "#%%\n"
    }
   }
  },
  {
   "cell_type": "code",
   "execution_count": null,
   "outputs": [],
   "source": [
    "newcase_rate = df['NewCases'].pct_change()\n",
    "country.daily_increase('NewCases', save = True)\n",
    "print('Answer:')\n",
    "pd.DataFrame(newcase_rate.tail(5))"
   ],
   "metadata": {
    "collapsed": false,
    "pycharm": {
     "name": "#%%\n"
    }
   }
  },
  {
   "cell_type": "code",
   "execution_count": null,
   "outputs": [],
   "source": [
    "recovered_rate = df['NewRecovered'].pct_change()\n",
    "country.daily_increase('NewRecovered', save = True)\n",
    "print('Answer:')\n",
    "pd.DataFrame(recovered_rate.tail(5))"
   ],
   "metadata": {
    "collapsed": false,
    "pycharm": {
     "name": "#%%\n"
    }
   }
  },
  {
   "cell_type": "code",
   "execution_count": null,
   "outputs": [],
   "source": [
    "death_rate = df['NewDeaths'].pct_change()\n",
    "country.daily_increase('NewDeaths', save = True)\n",
    "print('Answer:')\n",
    "pd.DataFrame(death_rate.tail(5))\n"
   ],
   "metadata": {
    "collapsed": false,
    "pycharm": {
     "name": "#%%\n"
    }
   }
  },
  {
   "cell_type": "markdown",
   "source": [
    "#### Closed cases ratio\n",
    "$$TotalRecovered + TotalDeaths = TotalCases - ActiveCases$$"
   ],
   "metadata": {
    "collapsed": false
   }
  },
  {
   "cell_type": "code",
   "execution_count": null,
   "outputs": [],
   "source": [
    "updated_totals = df[df['scrap_date'].dt.date == country.last_update]\\\n",
    "    [['TotalCases', 'ActiveCases', 'TotalRecovered', 'TotalDeaths']]\n",
    "res = (updated_totals[['TotalRecovered', 'TotalDeaths']] / (updated_totals['TotalCases']\\\n",
    "                                             .values[0] - updated_totals['ActiveCases'].values[0])) * 100\n",
    "res = round(res, 3).astype(str) + '%'\n",
    "print('Answer:')\n",
    "print(res)\n",
    "country.closed_cases_pie(save = True)"
   ],
   "metadata": {
    "collapsed": false,
    "pycharm": {
     "name": "#%%\n"
    }
   }
  },
  {
   "cell_type": "markdown",
   "source": [
    "Measures Boxplot"
   ],
   "metadata": {
    "collapsed": false,
    "pycharm": {
     "name": "#%% md\n"
    }
   }
  },
  {
   "cell_type": "code",
   "execution_count": null,
   "outputs": [],
   "source": [
    "measures = ['ActiveCases','NewCases','NewRecovered','NewDeaths']\n",
    "for m in measures:\n",
    "    fig = country.boxplot(m, save=True)\n",
    "    fig.show()"
   ],
   "metadata": {
    "collapsed": false,
    "pycharm": {
     "name": "#%%\n"
    }
   }
  },
  {
   "cell_type": "markdown",
   "source": [
    "### Part Three - Basic Analysis"
   ],
   "metadata": {
    "collapsed": false
   }
  },
  {
   "cell_type": "code",
   "execution_count": null,
   "outputs": [],
   "source": [
    "print(\"Q1.Find the date of the day with the highest New Cases.\")\n",
    "res_date = df[df['NewCases'] == df['NewCases'].max()]['scrap_date'].dt.date\n",
    "print('Answer:')\n",
    "pd.DataFrame(res_date)"
   ],
   "metadata": {
    "collapsed": false,
    "pycharm": {
     "name": "#%%\n"
    }
   }
  },
  {
   "cell_type": "code",
   "execution_count": null,
   "outputs": [],
   "source": [
    "print(\"Q2.Find the countries Case Fatality Ratio\")\n",
    "print('Answer: CFR= TotalDeaths/(TotalDeaths + TotalRecovered)')\n",
    "country.case_fatality_ratio().astype('str') + '%'"
   ],
   "metadata": {
    "collapsed": false,
    "pycharm": {
     "name": "#%%\n"
    }
   }
  }
 ],
 "metadata": {
  "kernelspec": {
   "display_name": "Python 3",
   "language": "python",
   "name": "python3"
  },
  "language_info": {
   "codemirror_mode": {
    "name": "ipython",
    "version": 2
   },
   "file_extension": ".py",
   "mimetype": "text/x-python",
   "name": "python",
   "nbconvert_exporter": "python",
   "pygments_lexer": "ipython2",
   "version": "2.7.6"
  }
 },
 "nbformat": 4,
 "nbformat_minor": 0
}